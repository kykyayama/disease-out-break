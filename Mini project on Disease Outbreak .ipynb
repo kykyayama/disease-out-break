{
 "cells": [
  {
   "cell_type": "markdown",
   "id": "fde0a9c3",
   "metadata": {},
   "source": [
    "\n",
    "<h2 style=\"color:blue\" align=\"center\"> MINI-PROJECT ON DISEASE OUT-BREAK IN NIGERIA </h2>"
   ]
  },
  {
   "cell_type": "markdown",
   "id": "9555afda",
   "metadata": {},
   "source": [
    "### Aim and Objective:\n",
    "#### To determine the correlation between the disease cases and it effects based on states, settlements, gender, and age groups amongst others.\n"
   ]
  },
  {
   "cell_type": "markdown",
   "id": "863e88bf",
   "metadata": {},
   "source": [
    "## Problem Statement\n",
    "\n",
    "1. Comparing different diseases againt age groups? If Children or Adults are more affected based on a particular diseases.\n",
    "2. Which disease is the most prevalent against settlements? \n",
    "3. Mortality rate between genders.\n",
    "4. Mortality rate btween rural and urban settlements \n",
    "5. Based on the diseases is there any trends to show if any deadly disease like Ebola can still surface in future.\n",
    "6. Based on the diseases, is there any trends to show if any deadly disease like Malaria can still surface in the future\n",
    "7. Is there any correlation between the columns that will predict if age can have high rate of contacting a particular disease. \n",
    "8. Disease more predominate in both male and female gender.\n",
    "9. Disease more prevelant in different states.\n",
    "10. To check state with the highest disease outbreak\n",
    "    Health status and year\n",
    "11. Which particular state is mostly affected based on malaria?"
   ]
  },
  {
   "cell_type": "code",
   "execution_count": 1,
   "id": "bfb5959b",
   "metadata": {},
   "outputs": [],
   "source": [
    "#Importing all the libraries and modules\n",
    "import numpy as np \n",
    "import pandas as pd \n",
    "import matplotlib.pyplot as plt \n",
    "import seaborn as sns\n",
    "%matplotlib inline\n",
    "import plotly.express as px\n",
    "import warnings \n",
    "warnings.filterwarnings('ignore')\n",
    "import plotly.express as px\n",
    "from sklearn.linear_model import LogisticRegression\n",
    "from sklearn.metrics import confusion_matrix, classification_report"
   ]
  },
  {
   "cell_type": "code",
   "execution_count": 2,
   "id": "08e3cf32",
   "metadata": {},
   "outputs": [
    {
     "data": {
      "text/html": [
       "<div>\n",
       "<style scoped>\n",
       "    .dataframe tbody tr th:only-of-type {\n",
       "        vertical-align: middle;\n",
       "    }\n",
       "\n",
       "    .dataframe tbody tr th {\n",
       "        vertical-align: top;\n",
       "    }\n",
       "\n",
       "    .dataframe thead th {\n",
       "        text-align: right;\n",
       "    }\n",
       "</style>\n",
       "<table border=\"1\" class=\"dataframe\">\n",
       "  <thead>\n",
       "    <tr style=\"text-align: right;\">\n",
       "      <th></th>\n",
       "      <th>id</th>\n",
       "      <th>surname</th>\n",
       "      <th>firstname</th>\n",
       "      <th>middlename</th>\n",
       "      <th>gender</th>\n",
       "      <th>gender_male</th>\n",
       "      <th>gender_female</th>\n",
       "      <th>state</th>\n",
       "      <th>settlement</th>\n",
       "      <th>rural_settlement</th>\n",
       "      <th>...</th>\n",
       "      <th>NmA</th>\n",
       "      <th>NmC</th>\n",
       "      <th>NmW</th>\n",
       "      <th>health_status</th>\n",
       "      <th>alive</th>\n",
       "      <th>dead</th>\n",
       "      <th>report_outcome</th>\n",
       "      <th>unconfirmed</th>\n",
       "      <th>confirmed</th>\n",
       "      <th>null_serotype</th>\n",
       "    </tr>\n",
       "  </thead>\n",
       "  <tbody>\n",
       "    <tr>\n",
       "      <th>0</th>\n",
       "      <td>1</td>\n",
       "      <td>Solade</td>\n",
       "      <td>Grace</td>\n",
       "      <td>Solape</td>\n",
       "      <td>Female</td>\n",
       "      <td>0</td>\n",
       "      <td>1</td>\n",
       "      <td>Rivers</td>\n",
       "      <td>Rural</td>\n",
       "      <td>1</td>\n",
       "      <td>...</td>\n",
       "      <td>0</td>\n",
       "      <td>0</td>\n",
       "      <td>0</td>\n",
       "      <td>alive</td>\n",
       "      <td>1</td>\n",
       "      <td>0</td>\n",
       "      <td>confirmed</td>\n",
       "      <td>0</td>\n",
       "      <td>1.0</td>\n",
       "      <td>1.0</td>\n",
       "    </tr>\n",
       "    <tr>\n",
       "      <th>1</th>\n",
       "      <td>2</td>\n",
       "      <td>Eneche</td>\n",
       "      <td>Kure</td>\n",
       "      <td>Balogun</td>\n",
       "      <td>Male</td>\n",
       "      <td>1</td>\n",
       "      <td>0</td>\n",
       "      <td>Ebonyi</td>\n",
       "      <td>Rural</td>\n",
       "      <td>1</td>\n",
       "      <td>...</td>\n",
       "      <td>0</td>\n",
       "      <td>0</td>\n",
       "      <td>1</td>\n",
       "      <td>Alive</td>\n",
       "      <td>1</td>\n",
       "      <td>0</td>\n",
       "      <td>Confirmed</td>\n",
       "      <td>1</td>\n",
       "      <td>0.0</td>\n",
       "      <td>1.0</td>\n",
       "    </tr>\n",
       "    <tr>\n",
       "      <th>2</th>\n",
       "      <td>3</td>\n",
       "      <td>Sanusi</td>\n",
       "      <td>Adaugo</td>\n",
       "      <td>Katerine</td>\n",
       "      <td>Female</td>\n",
       "      <td>0</td>\n",
       "      <td>1</td>\n",
       "      <td>Ogun</td>\n",
       "      <td>Urban</td>\n",
       "      <td>0</td>\n",
       "      <td>...</td>\n",
       "      <td>0</td>\n",
       "      <td>0</td>\n",
       "      <td>1</td>\n",
       "      <td>Dead</td>\n",
       "      <td>0</td>\n",
       "      <td>1</td>\n",
       "      <td>Not Confirmed</td>\n",
       "      <td>1</td>\n",
       "      <td>0.0</td>\n",
       "      <td>1.0</td>\n",
       "    </tr>\n",
       "    <tr>\n",
       "      <th>3</th>\n",
       "      <td>4</td>\n",
       "      <td>Sowore</td>\n",
       "      <td>Mooslemat</td>\n",
       "      <td>Ifedayo</td>\n",
       "      <td>Female</td>\n",
       "      <td>0</td>\n",
       "      <td>1</td>\n",
       "      <td>Ondo</td>\n",
       "      <td>Rural</td>\n",
       "      <td>1</td>\n",
       "      <td>...</td>\n",
       "      <td>0</td>\n",
       "      <td>0</td>\n",
       "      <td>1</td>\n",
       "      <td>Alive</td>\n",
       "      <td>1</td>\n",
       "      <td>0</td>\n",
       "      <td>Not Confirmed</td>\n",
       "      <td>1</td>\n",
       "      <td>0.0</td>\n",
       "      <td>1.0</td>\n",
       "    </tr>\n",
       "    <tr>\n",
       "      <th>4</th>\n",
       "      <td>5</td>\n",
       "      <td>Abdusalam</td>\n",
       "      <td>Yusuf</td>\n",
       "      <td>Okafor</td>\n",
       "      <td>Male</td>\n",
       "      <td>1</td>\n",
       "      <td>0</td>\n",
       "      <td>Oyo</td>\n",
       "      <td>Urban</td>\n",
       "      <td>0</td>\n",
       "      <td>...</td>\n",
       "      <td>0</td>\n",
       "      <td>0</td>\n",
       "      <td>1</td>\n",
       "      <td>Alive</td>\n",
       "      <td>1</td>\n",
       "      <td>0</td>\n",
       "      <td>Confirmed</td>\n",
       "      <td>1</td>\n",
       "      <td>0.0</td>\n",
       "      <td>1.0</td>\n",
       "    </tr>\n",
       "    <tr>\n",
       "      <th>...</th>\n",
       "      <td>...</td>\n",
       "      <td>...</td>\n",
       "      <td>...</td>\n",
       "      <td>...</td>\n",
       "      <td>...</td>\n",
       "      <td>...</td>\n",
       "      <td>...</td>\n",
       "      <td>...</td>\n",
       "      <td>...</td>\n",
       "      <td>...</td>\n",
       "      <td>...</td>\n",
       "      <td>...</td>\n",
       "      <td>...</td>\n",
       "      <td>...</td>\n",
       "      <td>...</td>\n",
       "      <td>...</td>\n",
       "      <td>...</td>\n",
       "      <td>...</td>\n",
       "      <td>...</td>\n",
       "      <td>...</td>\n",
       "      <td>...</td>\n",
       "    </tr>\n",
       "    <tr>\n",
       "      <th>93802</th>\n",
       "      <td>95527</td>\n",
       "      <td>Zamani</td>\n",
       "      <td>Paulina</td>\n",
       "      <td>Adetorera</td>\n",
       "      <td>Female</td>\n",
       "      <td>0</td>\n",
       "      <td>1</td>\n",
       "      <td>Rivers</td>\n",
       "      <td>Urban</td>\n",
       "      <td>0</td>\n",
       "      <td>...</td>\n",
       "      <td>0</td>\n",
       "      <td>0</td>\n",
       "      <td>1</td>\n",
       "      <td>Dead</td>\n",
       "      <td>0</td>\n",
       "      <td>1</td>\n",
       "      <td>Not Confirmed</td>\n",
       "      <td>1</td>\n",
       "      <td>0.0</td>\n",
       "      <td>1.0</td>\n",
       "    </tr>\n",
       "    <tr>\n",
       "      <th>93803</th>\n",
       "      <td>95528</td>\n",
       "      <td>Vincent</td>\n",
       "      <td>Kagara</td>\n",
       "      <td>Okonkwo</td>\n",
       "      <td>Male</td>\n",
       "      <td>1</td>\n",
       "      <td>0</td>\n",
       "      <td>Jigawa</td>\n",
       "      <td>Rural</td>\n",
       "      <td>1</td>\n",
       "      <td>...</td>\n",
       "      <td>0</td>\n",
       "      <td>0</td>\n",
       "      <td>1</td>\n",
       "      <td>Alive</td>\n",
       "      <td>1</td>\n",
       "      <td>0</td>\n",
       "      <td>Not Confirmed</td>\n",
       "      <td>1</td>\n",
       "      <td>0.0</td>\n",
       "      <td>1.0</td>\n",
       "    </tr>\n",
       "    <tr>\n",
       "      <th>93804</th>\n",
       "      <td>95529</td>\n",
       "      <td>Bakare</td>\n",
       "      <td>Debby</td>\n",
       "      <td>Victoria</td>\n",
       "      <td>Female</td>\n",
       "      <td>0</td>\n",
       "      <td>1</td>\n",
       "      <td>Ondo</td>\n",
       "      <td>Urban</td>\n",
       "      <td>0</td>\n",
       "      <td>...</td>\n",
       "      <td>0</td>\n",
       "      <td>0</td>\n",
       "      <td>1</td>\n",
       "      <td>Alive</td>\n",
       "      <td>1</td>\n",
       "      <td>0</td>\n",
       "      <td>Not Confirmed</td>\n",
       "      <td>1</td>\n",
       "      <td>0.0</td>\n",
       "      <td>1.0</td>\n",
       "    </tr>\n",
       "    <tr>\n",
       "      <th>93805</th>\n",
       "      <td>95530</td>\n",
       "      <td>Bamidele</td>\n",
       "      <td>John</td>\n",
       "      <td>Attah</td>\n",
       "      <td>Male</td>\n",
       "      <td>1</td>\n",
       "      <td>0</td>\n",
       "      <td>Katsina</td>\n",
       "      <td>Rural</td>\n",
       "      <td>1</td>\n",
       "      <td>...</td>\n",
       "      <td>0</td>\n",
       "      <td>0</td>\n",
       "      <td>1</td>\n",
       "      <td>Alive</td>\n",
       "      <td>1</td>\n",
       "      <td>0</td>\n",
       "      <td>Confirmed</td>\n",
       "      <td>0</td>\n",
       "      <td>1.0</td>\n",
       "      <td>1.0</td>\n",
       "    </tr>\n",
       "    <tr>\n",
       "      <th>93806</th>\n",
       "      <td>95531</td>\n",
       "      <td>Omotsope</td>\n",
       "      <td>Yusuf</td>\n",
       "      <td>Gbadamosi</td>\n",
       "      <td>Male</td>\n",
       "      <td>1</td>\n",
       "      <td>0</td>\n",
       "      <td>Cross River</td>\n",
       "      <td>Rural</td>\n",
       "      <td>1</td>\n",
       "      <td>...</td>\n",
       "      <td>0</td>\n",
       "      <td>0</td>\n",
       "      <td>1</td>\n",
       "      <td>Alive</td>\n",
       "      <td>1</td>\n",
       "      <td>0</td>\n",
       "      <td>Confirmed</td>\n",
       "      <td>1</td>\n",
       "      <td>NaN</td>\n",
       "      <td>NaN</td>\n",
       "    </tr>\n",
       "  </tbody>\n",
       "</table>\n",
       "<p>93807 rows × 40 columns</p>\n",
       "</div>"
      ],
      "text/plain": [
       "          id    surname  firstname middlename  gender  gender_male  \\\n",
       "0          1     Solade      Grace     Solape  Female            0   \n",
       "1          2     Eneche       Kure    Balogun    Male            1   \n",
       "2          3     Sanusi     Adaugo   Katerine  Female            0   \n",
       "3          4     Sowore  Mooslemat    Ifedayo  Female            0   \n",
       "4          5  Abdusalam      Yusuf     Okafor    Male            1   \n",
       "...      ...        ...        ...        ...     ...          ...   \n",
       "93802  95527     Zamani    Paulina  Adetorera  Female            0   \n",
       "93803  95528    Vincent     Kagara    Okonkwo    Male            1   \n",
       "93804  95529     Bakare      Debby   Victoria  Female            0   \n",
       "93805  95530   Bamidele       John      Attah    Male            1   \n",
       "93806  95531   Omotsope      Yusuf  Gbadamosi    Male            1   \n",
       "\n",
       "       gender_female        state settlement  rural_settlement  ...  NmA NmC  \\\n",
       "0                  1       Rivers      Rural                 1  ...    0   0   \n",
       "1                  0       Ebonyi      Rural                 1  ...    0   0   \n",
       "2                  1         Ogun      Urban                 0  ...    0   0   \n",
       "3                  1         Ondo      Rural                 1  ...    0   0   \n",
       "4                  0          Oyo      Urban                 0  ...    0   0   \n",
       "...              ...          ...        ...               ...  ...  ...  ..   \n",
       "93802              1       Rivers      Urban                 0  ...    0   0   \n",
       "93803              0       Jigawa      Rural                 1  ...    0   0   \n",
       "93804              1         Ondo      Urban                 0  ...    0   0   \n",
       "93805              0      Katsina      Rural                 1  ...    0   0   \n",
       "93806              0  Cross River      Rural                 1  ...    0   0   \n",
       "\n",
       "       NmW  health_status alive dead  report_outcome  unconfirmed confirmed  \\\n",
       "0        0          alive     1    0       confirmed            0       1.0   \n",
       "1        1          Alive     1    0       Confirmed            1       0.0   \n",
       "2        1           Dead     0    1   Not Confirmed            1       0.0   \n",
       "3        1          Alive     1    0   Not Confirmed            1       0.0   \n",
       "4        1          Alive     1    0       Confirmed            1       0.0   \n",
       "...    ...            ...   ...  ...             ...          ...       ...   \n",
       "93802    1           Dead     0    1   Not Confirmed            1       0.0   \n",
       "93803    1          Alive     1    0   Not Confirmed            1       0.0   \n",
       "93804    1          Alive     1    0   Not Confirmed            1       0.0   \n",
       "93805    1          Alive     1    0       Confirmed            0       1.0   \n",
       "93806    1          Alive     1    0       Confirmed            1       NaN   \n",
       "\n",
       "       null_serotype  \n",
       "0                1.0  \n",
       "1                1.0  \n",
       "2                1.0  \n",
       "3                1.0  \n",
       "4                1.0  \n",
       "...              ...  \n",
       "93802            1.0  \n",
       "93803            1.0  \n",
       "93804            1.0  \n",
       "93805            1.0  \n",
       "93806            NaN  \n",
       "\n",
       "[93807 rows x 40 columns]"
      ]
     },
     "execution_count": 2,
     "metadata": {},
     "output_type": "execute_result"
    }
   ],
   "source": [
    "#Importing the dataset\n",
    "meni_data1 = pd.read_csv('meningitis_dataset (1).csv')\n",
    "meni_data1"
   ]
  },
  {
   "cell_type": "code",
   "execution_count": null,
   "id": "efa156ae",
   "metadata": {},
   "outputs": [],
   "source": []
  },
  {
   "cell_type": "code",
   "execution_count": 3,
   "id": "36f9b53a",
   "metadata": {},
   "outputs": [
    {
     "data": {
      "text/html": [
       "<div>\n",
       "<style scoped>\n",
       "    .dataframe tbody tr th:only-of-type {\n",
       "        vertical-align: middle;\n",
       "    }\n",
       "\n",
       "    .dataframe tbody tr th {\n",
       "        vertical-align: top;\n",
       "    }\n",
       "\n",
       "    .dataframe thead th {\n",
       "        text-align: right;\n",
       "    }\n",
       "</style>\n",
       "<table border=\"1\" class=\"dataframe\">\n",
       "  <thead>\n",
       "    <tr style=\"text-align: right;\">\n",
       "      <th></th>\n",
       "      <th>gender</th>\n",
       "      <th>gender_male</th>\n",
       "      <th>gender_female</th>\n",
       "      <th>state</th>\n",
       "      <th>settlement</th>\n",
       "      <th>rural_settlement</th>\n",
       "      <th>urban_settlement</th>\n",
       "      <th>report_date</th>\n",
       "      <th>report_year</th>\n",
       "      <th>age</th>\n",
       "      <th>child_group</th>\n",
       "      <th>adult_group</th>\n",
       "      <th>disease</th>\n",
       "      <th>health_status</th>\n",
       "      <th>report_outcome</th>\n",
       "      <th>unconfirmed</th>\n",
       "      <th>confirmed</th>\n",
       "    </tr>\n",
       "  </thead>\n",
       "  <tbody>\n",
       "    <tr>\n",
       "      <th>0</th>\n",
       "      <td>Female</td>\n",
       "      <td>0</td>\n",
       "      <td>1</td>\n",
       "      <td>Rivers</td>\n",
       "      <td>Rural</td>\n",
       "      <td>1</td>\n",
       "      <td>0</td>\n",
       "      <td>2018-05-15</td>\n",
       "      <td>2018</td>\n",
       "      <td>32</td>\n",
       "      <td>0</td>\n",
       "      <td>1</td>\n",
       "      <td>Cholera</td>\n",
       "      <td>alive</td>\n",
       "      <td>confirmed</td>\n",
       "      <td>0</td>\n",
       "      <td>1.0</td>\n",
       "    </tr>\n",
       "    <tr>\n",
       "      <th>1</th>\n",
       "      <td>Male</td>\n",
       "      <td>1</td>\n",
       "      <td>0</td>\n",
       "      <td>Ebonyi</td>\n",
       "      <td>Rural</td>\n",
       "      <td>1</td>\n",
       "      <td>0</td>\n",
       "      <td>2017-02-28</td>\n",
       "      <td>2017</td>\n",
       "      <td>32</td>\n",
       "      <td>0</td>\n",
       "      <td>1</td>\n",
       "      <td>Marburg Virus</td>\n",
       "      <td>Alive</td>\n",
       "      <td>Confirmed</td>\n",
       "      <td>1</td>\n",
       "      <td>0.0</td>\n",
       "    </tr>\n",
       "    <tr>\n",
       "      <th>2</th>\n",
       "      <td>Female</td>\n",
       "      <td>0</td>\n",
       "      <td>1</td>\n",
       "      <td>Ogun</td>\n",
       "      <td>Urban</td>\n",
       "      <td>0</td>\n",
       "      <td>1</td>\n",
       "      <td>2012-03-02</td>\n",
       "      <td>2012</td>\n",
       "      <td>24</td>\n",
       "      <td>0</td>\n",
       "      <td>1</td>\n",
       "      <td>Marburg Virus</td>\n",
       "      <td>Dead</td>\n",
       "      <td>Not Confirmed</td>\n",
       "      <td>1</td>\n",
       "      <td>0.0</td>\n",
       "    </tr>\n",
       "    <tr>\n",
       "      <th>3</th>\n",
       "      <td>Female</td>\n",
       "      <td>0</td>\n",
       "      <td>1</td>\n",
       "      <td>Ondo</td>\n",
       "      <td>Rural</td>\n",
       "      <td>1</td>\n",
       "      <td>0</td>\n",
       "      <td>2010-05-21</td>\n",
       "      <td>2010</td>\n",
       "      <td>63</td>\n",
       "      <td>0</td>\n",
       "      <td>1</td>\n",
       "      <td>Measles</td>\n",
       "      <td>Alive</td>\n",
       "      <td>Not Confirmed</td>\n",
       "      <td>1</td>\n",
       "      <td>0.0</td>\n",
       "    </tr>\n",
       "    <tr>\n",
       "      <th>4</th>\n",
       "      <td>Male</td>\n",
       "      <td>1</td>\n",
       "      <td>0</td>\n",
       "      <td>Oyo</td>\n",
       "      <td>Urban</td>\n",
       "      <td>0</td>\n",
       "      <td>1</td>\n",
       "      <td>2017-08-28</td>\n",
       "      <td>2017</td>\n",
       "      <td>9</td>\n",
       "      <td>1</td>\n",
       "      <td>0</td>\n",
       "      <td>Rubella Mars</td>\n",
       "      <td>Alive</td>\n",
       "      <td>Confirmed</td>\n",
       "      <td>1</td>\n",
       "      <td>0.0</td>\n",
       "    </tr>\n",
       "    <tr>\n",
       "      <th>...</th>\n",
       "      <td>...</td>\n",
       "      <td>...</td>\n",
       "      <td>...</td>\n",
       "      <td>...</td>\n",
       "      <td>...</td>\n",
       "      <td>...</td>\n",
       "      <td>...</td>\n",
       "      <td>...</td>\n",
       "      <td>...</td>\n",
       "      <td>...</td>\n",
       "      <td>...</td>\n",
       "      <td>...</td>\n",
       "      <td>...</td>\n",
       "      <td>...</td>\n",
       "      <td>...</td>\n",
       "      <td>...</td>\n",
       "      <td>...</td>\n",
       "    </tr>\n",
       "    <tr>\n",
       "      <th>93802</th>\n",
       "      <td>Female</td>\n",
       "      <td>0</td>\n",
       "      <td>1</td>\n",
       "      <td>Rivers</td>\n",
       "      <td>Urban</td>\n",
       "      <td>0</td>\n",
       "      <td>1</td>\n",
       "      <td>2017-03-20</td>\n",
       "      <td>2017</td>\n",
       "      <td>4</td>\n",
       "      <td>1</td>\n",
       "      <td>0</td>\n",
       "      <td>Ebola</td>\n",
       "      <td>Dead</td>\n",
       "      <td>Not Confirmed</td>\n",
       "      <td>1</td>\n",
       "      <td>0.0</td>\n",
       "    </tr>\n",
       "    <tr>\n",
       "      <th>93803</th>\n",
       "      <td>Male</td>\n",
       "      <td>1</td>\n",
       "      <td>0</td>\n",
       "      <td>Jigawa</td>\n",
       "      <td>Rural</td>\n",
       "      <td>1</td>\n",
       "      <td>0</td>\n",
       "      <td>2017-12-05</td>\n",
       "      <td>2017</td>\n",
       "      <td>73</td>\n",
       "      <td>0</td>\n",
       "      <td>1</td>\n",
       "      <td>Rubella Mars</td>\n",
       "      <td>Alive</td>\n",
       "      <td>Not Confirmed</td>\n",
       "      <td>1</td>\n",
       "      <td>0.0</td>\n",
       "    </tr>\n",
       "    <tr>\n",
       "      <th>93804</th>\n",
       "      <td>Female</td>\n",
       "      <td>0</td>\n",
       "      <td>1</td>\n",
       "      <td>Ondo</td>\n",
       "      <td>Urban</td>\n",
       "      <td>0</td>\n",
       "      <td>1</td>\n",
       "      <td>2011-09-16</td>\n",
       "      <td>2011</td>\n",
       "      <td>24</td>\n",
       "      <td>0</td>\n",
       "      <td>1</td>\n",
       "      <td>Yellow Fever</td>\n",
       "      <td>Alive</td>\n",
       "      <td>Not Confirmed</td>\n",
       "      <td>1</td>\n",
       "      <td>0.0</td>\n",
       "    </tr>\n",
       "    <tr>\n",
       "      <th>93805</th>\n",
       "      <td>Male</td>\n",
       "      <td>1</td>\n",
       "      <td>0</td>\n",
       "      <td>Katsina</td>\n",
       "      <td>Rural</td>\n",
       "      <td>1</td>\n",
       "      <td>0</td>\n",
       "      <td>2009-08-05</td>\n",
       "      <td>2009</td>\n",
       "      <td>24</td>\n",
       "      <td>0</td>\n",
       "      <td>1</td>\n",
       "      <td>Diarrhoea</td>\n",
       "      <td>Alive</td>\n",
       "      <td>Confirmed</td>\n",
       "      <td>0</td>\n",
       "      <td>1.0</td>\n",
       "    </tr>\n",
       "    <tr>\n",
       "      <th>93806</th>\n",
       "      <td>Male</td>\n",
       "      <td>1</td>\n",
       "      <td>0</td>\n",
       "      <td>Cross River</td>\n",
       "      <td>Rural</td>\n",
       "      <td>1</td>\n",
       "      <td>0</td>\n",
       "      <td>2009-07-27</td>\n",
       "      <td>2009</td>\n",
       "      <td>42</td>\n",
       "      <td>0</td>\n",
       "      <td>1</td>\n",
       "      <td>Marburg Virus</td>\n",
       "      <td>Alive</td>\n",
       "      <td>Confirmed</td>\n",
       "      <td>1</td>\n",
       "      <td>NaN</td>\n",
       "    </tr>\n",
       "  </tbody>\n",
       "</table>\n",
       "<p>93807 rows × 17 columns</p>\n",
       "</div>"
      ],
      "text/plain": [
       "       gender  gender_male  gender_female        state settlement  \\\n",
       "0      Female            0              1       Rivers      Rural   \n",
       "1        Male            1              0       Ebonyi      Rural   \n",
       "2      Female            0              1         Ogun      Urban   \n",
       "3      Female            0              1         Ondo      Rural   \n",
       "4        Male            1              0          Oyo      Urban   \n",
       "...       ...          ...            ...          ...        ...   \n",
       "93802  Female            0              1       Rivers      Urban   \n",
       "93803    Male            1              0       Jigawa      Rural   \n",
       "93804  Female            0              1         Ondo      Urban   \n",
       "93805    Male            1              0      Katsina      Rural   \n",
       "93806    Male            1              0  Cross River      Rural   \n",
       "\n",
       "       rural_settlement  urban_settlement report_date  report_year  age  \\\n",
       "0                     1                 0  2018-05-15         2018   32   \n",
       "1                     1                 0  2017-02-28         2017   32   \n",
       "2                     0                 1  2012-03-02         2012   24   \n",
       "3                     1                 0  2010-05-21         2010   63   \n",
       "4                     0                 1  2017-08-28         2017    9   \n",
       "...                 ...               ...         ...          ...  ...   \n",
       "93802                 0                 1  2017-03-20         2017    4   \n",
       "93803                 1                 0  2017-12-05         2017   73   \n",
       "93804                 0                 1  2011-09-16         2011   24   \n",
       "93805                 1                 0  2009-08-05         2009   24   \n",
       "93806                 1                 0  2009-07-27         2009   42   \n",
       "\n",
       "       child_group  adult_group        disease health_status report_outcome  \\\n",
       "0                0            1        Cholera         alive      confirmed   \n",
       "1                0            1  Marburg Virus         Alive      Confirmed   \n",
       "2                0            1  Marburg Virus          Dead  Not Confirmed   \n",
       "3                0            1        Measles         Alive  Not Confirmed   \n",
       "4                1            0   Rubella Mars         Alive      Confirmed   \n",
       "...            ...          ...            ...           ...            ...   \n",
       "93802            1            0          Ebola          Dead  Not Confirmed   \n",
       "93803            0            1   Rubella Mars         Alive  Not Confirmed   \n",
       "93804            0            1   Yellow Fever         Alive  Not Confirmed   \n",
       "93805            0            1      Diarrhoea         Alive      Confirmed   \n",
       "93806            0            1  Marburg Virus         Alive      Confirmed   \n",
       "\n",
       "       unconfirmed  confirmed  \n",
       "0                0        1.0  \n",
       "1                1        0.0  \n",
       "2                1        0.0  \n",
       "3                1        0.0  \n",
       "4                1        0.0  \n",
       "...            ...        ...  \n",
       "93802            1        0.0  \n",
       "93803            1        0.0  \n",
       "93804            1        0.0  \n",
       "93805            0        1.0  \n",
       "93806            1        NaN  \n",
       "\n",
       "[93807 rows x 17 columns]"
      ]
     },
     "execution_count": 3,
     "metadata": {},
     "output_type": "execute_result"
    }
   ],
   "source": [
    "#Droping unneccesary columns for our EDA and modeling\n",
    "data = meni_data1.drop(['id','surname','firstname','middlename','age_str','date_of_birth','meningitis','ebola','marburg_virus','serotype','yellow_fever','rubella_mars','malaria','cholera','diarrhoea','null_serotype','measles','viral_haemmorrhaphic_fever','NmA','NmC','NmW','alive','dead'], axis = 'columns')\n",
    "data"
   ]
  },
  {
   "cell_type": "code",
   "execution_count": 4,
   "id": "cc31e0ac",
   "metadata": {},
   "outputs": [
    {
     "name": "stdout",
     "output_type": "stream",
     "text": [
      "<class 'pandas.core.frame.DataFrame'>\n",
      "RangeIndex: 93807 entries, 0 to 93806\n",
      "Data columns (total 17 columns):\n",
      " #   Column            Non-Null Count  Dtype  \n",
      "---  ------            --------------  -----  \n",
      " 0   gender            93807 non-null  object \n",
      " 1   gender_male       93807 non-null  int64  \n",
      " 2   gender_female     93807 non-null  int64  \n",
      " 3   state             93807 non-null  object \n",
      " 4   settlement        93807 non-null  object \n",
      " 5   rural_settlement  93807 non-null  int64  \n",
      " 6   urban_settlement  93807 non-null  int64  \n",
      " 7   report_date       93807 non-null  object \n",
      " 8   report_year       93807 non-null  int64  \n",
      " 9   age               93807 non-null  int64  \n",
      " 10  child_group       93807 non-null  int64  \n",
      " 11  adult_group       93807 non-null  int64  \n",
      " 12  disease           93807 non-null  object \n",
      " 13  health_status     93807 non-null  object \n",
      " 14  report_outcome    93807 non-null  object \n",
      " 15  unconfirmed       93807 non-null  int64  \n",
      " 16  confirmed         93806 non-null  float64\n",
      "dtypes: float64(1), int64(9), object(7)\n",
      "memory usage: 12.2+ MB\n"
     ]
    }
   ],
   "source": [
    "#Checking the dataset info\n",
    "data.info()"
   ]
  },
  {
   "cell_type": "markdown",
   "id": "b7dc835c",
   "metadata": {},
   "source": [
    "## Data Cleaning "
   ]
  },
  {
   "cell_type": "code",
   "execution_count": 5,
   "id": "daeb1c7a",
   "metadata": {},
   "outputs": [
    {
     "data": {
      "text/plain": [
       "(93807, 17)"
      ]
     },
     "execution_count": 5,
     "metadata": {},
     "output_type": "execute_result"
    }
   ],
   "source": [
    "#shape of the dataset\n",
    "data.shape"
   ]
  },
  {
   "cell_type": "code",
   "execution_count": 6,
   "id": "8e452d61",
   "metadata": {},
   "outputs": [
    {
     "data": {
      "text/plain": [
       "gender              0\n",
       "gender_male         0\n",
       "gender_female       0\n",
       "state               0\n",
       "settlement          0\n",
       "rural_settlement    0\n",
       "urban_settlement    0\n",
       "report_date         0\n",
       "report_year         0\n",
       "age                 0\n",
       "child_group         0\n",
       "adult_group         0\n",
       "disease             0\n",
       "health_status       0\n",
       "report_outcome      0\n",
       "unconfirmed         0\n",
       "confirmed           1\n",
       "dtype: int64"
      ]
     },
     "execution_count": 6,
     "metadata": {},
     "output_type": "execute_result"
    }
   ],
   "source": [
    "#Checking the missing values \n",
    "data.isnull().sum()"
   ]
  },
  {
   "cell_type": "code",
   "execution_count": 7,
   "id": "560b789c",
   "metadata": {},
   "outputs": [
    {
     "data": {
      "text/html": [
       "<div>\n",
       "<style scoped>\n",
       "    .dataframe tbody tr th:only-of-type {\n",
       "        vertical-align: middle;\n",
       "    }\n",
       "\n",
       "    .dataframe tbody tr th {\n",
       "        vertical-align: top;\n",
       "    }\n",
       "\n",
       "    .dataframe thead th {\n",
       "        text-align: right;\n",
       "    }\n",
       "</style>\n",
       "<table border=\"1\" class=\"dataframe\">\n",
       "  <thead>\n",
       "    <tr style=\"text-align: right;\">\n",
       "      <th></th>\n",
       "      <th>gender_male</th>\n",
       "      <th>gender_female</th>\n",
       "      <th>rural_settlement</th>\n",
       "      <th>urban_settlement</th>\n",
       "      <th>report_year</th>\n",
       "      <th>age</th>\n",
       "      <th>child_group</th>\n",
       "      <th>adult_group</th>\n",
       "      <th>unconfirmed</th>\n",
       "      <th>confirmed</th>\n",
       "    </tr>\n",
       "  </thead>\n",
       "  <tbody>\n",
       "    <tr>\n",
       "      <th>count</th>\n",
       "      <td>93807.000000</td>\n",
       "      <td>93807.000000</td>\n",
       "      <td>93807.000000</td>\n",
       "      <td>93807.000000</td>\n",
       "      <td>93807.000000</td>\n",
       "      <td>93807.000000</td>\n",
       "      <td>93807.000000</td>\n",
       "      <td>93807.000000</td>\n",
       "      <td>93807.000000</td>\n",
       "      <td>93806.000000</td>\n",
       "    </tr>\n",
       "    <tr>\n",
       "      <th>mean</th>\n",
       "      <td>0.482576</td>\n",
       "      <td>0.517424</td>\n",
       "      <td>0.503353</td>\n",
       "      <td>0.496647</td>\n",
       "      <td>2013.515388</td>\n",
       "      <td>34.766510</td>\n",
       "      <td>0.291588</td>\n",
       "      <td>0.708412</td>\n",
       "      <td>0.749336</td>\n",
       "      <td>0.250666</td>\n",
       "    </tr>\n",
       "    <tr>\n",
       "      <th>std</th>\n",
       "      <td>0.499699</td>\n",
       "      <td>0.499699</td>\n",
       "      <td>0.499991</td>\n",
       "      <td>0.499991</td>\n",
       "      <td>2.873372</td>\n",
       "      <td>22.263557</td>\n",
       "      <td>0.454496</td>\n",
       "      <td>0.454496</td>\n",
       "      <td>0.433397</td>\n",
       "      <td>0.433399</td>\n",
       "    </tr>\n",
       "    <tr>\n",
       "      <th>min</th>\n",
       "      <td>0.000000</td>\n",
       "      <td>0.000000</td>\n",
       "      <td>0.000000</td>\n",
       "      <td>0.000000</td>\n",
       "      <td>2009.000000</td>\n",
       "      <td>0.000000</td>\n",
       "      <td>0.000000</td>\n",
       "      <td>0.000000</td>\n",
       "      <td>0.000000</td>\n",
       "      <td>0.000000</td>\n",
       "    </tr>\n",
       "    <tr>\n",
       "      <th>25%</th>\n",
       "      <td>0.000000</td>\n",
       "      <td>0.000000</td>\n",
       "      <td>0.000000</td>\n",
       "      <td>0.000000</td>\n",
       "      <td>2011.000000</td>\n",
       "      <td>14.000000</td>\n",
       "      <td>0.000000</td>\n",
       "      <td>0.000000</td>\n",
       "      <td>0.000000</td>\n",
       "      <td>0.000000</td>\n",
       "    </tr>\n",
       "    <tr>\n",
       "      <th>50%</th>\n",
       "      <td>0.000000</td>\n",
       "      <td>1.000000</td>\n",
       "      <td>1.000000</td>\n",
       "      <td>0.000000</td>\n",
       "      <td>2014.000000</td>\n",
       "      <td>34.000000</td>\n",
       "      <td>0.000000</td>\n",
       "      <td>1.000000</td>\n",
       "      <td>1.000000</td>\n",
       "      <td>0.000000</td>\n",
       "    </tr>\n",
       "    <tr>\n",
       "      <th>75%</th>\n",
       "      <td>1.000000</td>\n",
       "      <td>1.000000</td>\n",
       "      <td>1.000000</td>\n",
       "      <td>1.000000</td>\n",
       "      <td>2016.000000</td>\n",
       "      <td>54.000000</td>\n",
       "      <td>1.000000</td>\n",
       "      <td>1.000000</td>\n",
       "      <td>1.000000</td>\n",
       "      <td>1.000000</td>\n",
       "    </tr>\n",
       "    <tr>\n",
       "      <th>max</th>\n",
       "      <td>1.000000</td>\n",
       "      <td>1.000000</td>\n",
       "      <td>1.000000</td>\n",
       "      <td>1.000000</td>\n",
       "      <td>2018.000000</td>\n",
       "      <td>78.000000</td>\n",
       "      <td>1.000000</td>\n",
       "      <td>1.000000</td>\n",
       "      <td>1.000000</td>\n",
       "      <td>1.000000</td>\n",
       "    </tr>\n",
       "  </tbody>\n",
       "</table>\n",
       "</div>"
      ],
      "text/plain": [
       "        gender_male  gender_female  rural_settlement  urban_settlement  \\\n",
       "count  93807.000000   93807.000000      93807.000000      93807.000000   \n",
       "mean       0.482576       0.517424          0.503353          0.496647   \n",
       "std        0.499699       0.499699          0.499991          0.499991   \n",
       "min        0.000000       0.000000          0.000000          0.000000   \n",
       "25%        0.000000       0.000000          0.000000          0.000000   \n",
       "50%        0.000000       1.000000          1.000000          0.000000   \n",
       "75%        1.000000       1.000000          1.000000          1.000000   \n",
       "max        1.000000       1.000000          1.000000          1.000000   \n",
       "\n",
       "        report_year           age   child_group   adult_group   unconfirmed  \\\n",
       "count  93807.000000  93807.000000  93807.000000  93807.000000  93807.000000   \n",
       "mean    2013.515388     34.766510      0.291588      0.708412      0.749336   \n",
       "std        2.873372     22.263557      0.454496      0.454496      0.433397   \n",
       "min     2009.000000      0.000000      0.000000      0.000000      0.000000   \n",
       "25%     2011.000000     14.000000      0.000000      0.000000      0.000000   \n",
       "50%     2014.000000     34.000000      0.000000      1.000000      1.000000   \n",
       "75%     2016.000000     54.000000      1.000000      1.000000      1.000000   \n",
       "max     2018.000000     78.000000      1.000000      1.000000      1.000000   \n",
       "\n",
       "          confirmed  \n",
       "count  93806.000000  \n",
       "mean       0.250666  \n",
       "std        0.433399  \n",
       "min        0.000000  \n",
       "25%        0.000000  \n",
       "50%        0.000000  \n",
       "75%        1.000000  \n",
       "max        1.000000  "
      ]
     },
     "execution_count": 7,
     "metadata": {},
     "output_type": "execute_result"
    }
   ],
   "source": [
    "#Describing the data to get the statistics of the dataset\n",
    "data.describe()"
   ]
  },
  {
   "cell_type": "code",
   "execution_count": 8,
   "id": "463be998",
   "metadata": {},
   "outputs": [
    {
     "data": {
      "text/plain": [
       "0        False\n",
       "1        False\n",
       "2        False\n",
       "3        False\n",
       "4        False\n",
       "         ...  \n",
       "93802    False\n",
       "93803    False\n",
       "93804    False\n",
       "93805    False\n",
       "93806    False\n",
       "Length: 93807, dtype: bool"
      ]
     },
     "execution_count": 8,
     "metadata": {},
     "output_type": "execute_result"
    }
   ],
   "source": [
    "#Checking for duplicate value\n",
    "data.duplicated(keep = 'first')"
   ]
  },
  {
   "cell_type": "code",
   "execution_count": 9,
   "id": "a3a93fad",
   "metadata": {},
   "outputs": [
    {
     "data": {
      "text/html": [
       "<div>\n",
       "<style scoped>\n",
       "    .dataframe tbody tr th:only-of-type {\n",
       "        vertical-align: middle;\n",
       "    }\n",
       "\n",
       "    .dataframe tbody tr th {\n",
       "        vertical-align: top;\n",
       "    }\n",
       "\n",
       "    .dataframe thead th {\n",
       "        text-align: right;\n",
       "    }\n",
       "</style>\n",
       "<table border=\"1\" class=\"dataframe\">\n",
       "  <thead>\n",
       "    <tr style=\"text-align: right;\">\n",
       "      <th></th>\n",
       "      <th>report_date</th>\n",
       "    </tr>\n",
       "  </thead>\n",
       "  <tbody>\n",
       "    <tr>\n",
       "      <th>0</th>\n",
       "      <td>2018-05-15</td>\n",
       "    </tr>\n",
       "    <tr>\n",
       "      <th>1</th>\n",
       "      <td>2017-02-28</td>\n",
       "    </tr>\n",
       "    <tr>\n",
       "      <th>2</th>\n",
       "      <td>2012-03-02</td>\n",
       "    </tr>\n",
       "    <tr>\n",
       "      <th>3</th>\n",
       "      <td>2010-05-21</td>\n",
       "    </tr>\n",
       "    <tr>\n",
       "      <th>4</th>\n",
       "      <td>2017-08-28</td>\n",
       "    </tr>\n",
       "    <tr>\n",
       "      <th>...</th>\n",
       "      <td>...</td>\n",
       "    </tr>\n",
       "    <tr>\n",
       "      <th>93802</th>\n",
       "      <td>2017-03-20</td>\n",
       "    </tr>\n",
       "    <tr>\n",
       "      <th>93803</th>\n",
       "      <td>2017-12-05</td>\n",
       "    </tr>\n",
       "    <tr>\n",
       "      <th>93804</th>\n",
       "      <td>2011-09-16</td>\n",
       "    </tr>\n",
       "    <tr>\n",
       "      <th>93805</th>\n",
       "      <td>2009-08-05</td>\n",
       "    </tr>\n",
       "    <tr>\n",
       "      <th>93806</th>\n",
       "      <td>2009-07-27</td>\n",
       "    </tr>\n",
       "  </tbody>\n",
       "</table>\n",
       "<p>93807 rows × 1 columns</p>\n",
       "</div>"
      ],
      "text/plain": [
       "      report_date\n",
       "0      2018-05-15\n",
       "1      2017-02-28\n",
       "2      2012-03-02\n",
       "3      2010-05-21\n",
       "4      2017-08-28\n",
       "...           ...\n",
       "93802  2017-03-20\n",
       "93803  2017-12-05\n",
       "93804  2011-09-16\n",
       "93805  2009-08-05\n",
       "93806  2009-07-27\n",
       "\n",
       "[93807 rows x 1 columns]"
      ]
     },
     "execution_count": 9,
     "metadata": {},
     "output_type": "execute_result"
    }
   ],
   "source": [
    "meni_data1[['report_date']]"
   ]
  },
  {
   "cell_type": "code",
   "execution_count": 10,
   "id": "fc8890c3",
   "metadata": {},
   "outputs": [
    {
     "data": {
      "text/plain": [
       "disease                   \n",
       "Marburg Virus                 9543\n",
       "Malaria                       9452\n",
       "Yellow Fever                  9407\n",
       "Cholera                       9385\n",
       "Diarrhoea                     9383\n",
       "Measles                       9375\n",
       "Viral Haemmorrhaphic Fever    9368\n",
       "Ebola                         9330\n",
       "Rubella Mars                  9326\n",
       "Meningitis                    9238\n",
       "dtype: int64"
      ]
     },
     "execution_count": 10,
     "metadata": {},
     "output_type": "execute_result"
    }
   ],
   "source": [
    "# checking for the amount of cases in each disease group\n",
    "data[['disease']].value_counts()"
   ]
  },
  {
   "cell_type": "code",
   "execution_count": 11,
   "id": "6e1796ab",
   "metadata": {},
   "outputs": [
    {
     "data": {
      "text/plain": [
       "gender  disease                   \n",
       "Female  Measles                       4940\n",
       "        Marburg Virus                 4902\n",
       "        Yellow Fever                  4897\n",
       "        Rubella Mars                  4853\n",
       "        Malaria                       4847\n",
       "        Meningitis                    4837\n",
       "        Viral Haemmorrhaphic Fever    4834\n",
       "        Diarrhoea                     4830\n",
       "        Cholera                       4821\n",
       "        Ebola                         4777\n",
       "Male    Marburg Virus                 4641\n",
       "        Malaria                       4605\n",
       "        Cholera                       4564\n",
       "        Ebola                         4553\n",
       "        Diarrhoea                     4553\n",
       "        Viral Haemmorrhaphic Fever    4534\n",
       "        Yellow Fever                  4510\n",
       "        Rubella Mars                  4473\n",
       "        Measles                       4435\n",
       "        Meningitis                    4401\n",
       "dtype: int64"
      ]
     },
     "execution_count": 11,
     "metadata": {},
     "output_type": "execute_result"
    }
   ],
   "source": [
    "# checking for numbers of cases with respect to gender(female and male)\n",
    "g_disease = data.groupby('gender')[['disease']].value_counts().sort_values(ascending = False).head(30)\n",
    "g_disease\n"
   ]
  },
  {
   "cell_type": "code",
   "execution_count": 12,
   "id": "aff0628a",
   "metadata": {},
   "outputs": [
    {
     "data": {
      "text/html": [
       "<div>\n",
       "<style scoped>\n",
       "    .dataframe tbody tr th:only-of-type {\n",
       "        vertical-align: middle;\n",
       "    }\n",
       "\n",
       "    .dataframe tbody tr th {\n",
       "        vertical-align: top;\n",
       "    }\n",
       "\n",
       "    .dataframe thead th {\n",
       "        text-align: right;\n",
       "    }\n",
       "</style>\n",
       "<table border=\"1\" class=\"dataframe\">\n",
       "  <thead>\n",
       "    <tr style=\"text-align: right;\">\n",
       "      <th>disease</th>\n",
       "      <th>Cholera</th>\n",
       "      <th>Diarrhoea</th>\n",
       "      <th>Ebola</th>\n",
       "      <th>Malaria</th>\n",
       "      <th>Marburg Virus</th>\n",
       "      <th>Measles</th>\n",
       "      <th>Meningitis</th>\n",
       "      <th>Rubella Mars</th>\n",
       "      <th>Viral Haemmorrhaphic Fever</th>\n",
       "      <th>Yellow Fever</th>\n",
       "    </tr>\n",
       "    <tr>\n",
       "      <th>gender</th>\n",
       "      <th></th>\n",
       "      <th></th>\n",
       "      <th></th>\n",
       "      <th></th>\n",
       "      <th></th>\n",
       "      <th></th>\n",
       "      <th></th>\n",
       "      <th></th>\n",
       "      <th></th>\n",
       "      <th></th>\n",
       "    </tr>\n",
       "  </thead>\n",
       "  <tbody>\n",
       "    <tr>\n",
       "      <th>Female</th>\n",
       "      <td>4821</td>\n",
       "      <td>4830</td>\n",
       "      <td>4777</td>\n",
       "      <td>4847</td>\n",
       "      <td>4902</td>\n",
       "      <td>4940</td>\n",
       "      <td>4837</td>\n",
       "      <td>4853</td>\n",
       "      <td>4834</td>\n",
       "      <td>4897</td>\n",
       "    </tr>\n",
       "    <tr>\n",
       "      <th>Male</th>\n",
       "      <td>4564</td>\n",
       "      <td>4553</td>\n",
       "      <td>4553</td>\n",
       "      <td>4605</td>\n",
       "      <td>4641</td>\n",
       "      <td>4435</td>\n",
       "      <td>4401</td>\n",
       "      <td>4473</td>\n",
       "      <td>4534</td>\n",
       "      <td>4510</td>\n",
       "    </tr>\n",
       "  </tbody>\n",
       "</table>\n",
       "</div>"
      ],
      "text/plain": [
       "disease  Cholera  Diarrhoea  Ebola  Malaria  Marburg Virus  Measles  \\\n",
       "gender                                                                \n",
       "Female      4821       4830   4777     4847           4902     4940   \n",
       "Male        4564       4553   4553     4605           4641     4435   \n",
       "\n",
       "disease  Meningitis  Rubella Mars  Viral Haemmorrhaphic Fever  Yellow Fever  \n",
       "gender                                                                       \n",
       "Female         4837          4853                        4834          4897  \n",
       "Male           4401          4473                        4534          4510  "
      ]
     },
     "execution_count": 12,
     "metadata": {},
     "output_type": "execute_result"
    }
   ],
   "source": [
    "# summary of cases(disease) with respect to gender(female and male)\n",
    "gender_d =data.groupby(\"gender\")[\"disease\"].value_counts().unstack().fillna(0)\n",
    "gender_d"
   ]
  },
  {
   "cell_type": "code",
   "execution_count": 13,
   "id": "38a9f0bb",
   "metadata": {},
   "outputs": [
    {
     "data": {
      "text/plain": [
       "Female    0.52\n",
       "Male      0.48\n",
       "Name: gender, dtype: float64"
      ]
     },
     "execution_count": 13,
     "metadata": {},
     "output_type": "execute_result"
    }
   ],
   "source": [
    "#percentage of the male and female genders \n",
    "percent_gender = data['gender'].value_counts(normalize = True)\n",
    "percent_gender.round(2)"
   ]
  },
  {
   "cell_type": "markdown",
   "id": "e6664b55",
   "metadata": {},
   "source": [
    "The total percentge of Female is 52% and male is 48%"
   ]
  },
  {
   "cell_type": "code",
   "execution_count": 14,
   "id": "edd63042",
   "metadata": {},
   "outputs": [
    {
     "data": {
      "text/plain": [
       "Female    48538\n",
       "Male      45269\n",
       "Name: gender, dtype: int64"
      ]
     },
     "execution_count": 14,
     "metadata": {},
     "output_type": "execute_result"
    }
   ],
   "source": [
    "#counts of gender\n",
    "data.gender.value_counts()"
   ]
  },
  {
   "cell_type": "code",
   "execution_count": 15,
   "id": "5a667420",
   "metadata": {},
   "outputs": [
    {
     "data": {
      "image/png": "[encoded data removed]",
      "text/plain": [
       "<Figure size 1080x720 with 1 Axes>"
      ]
     },
     "metadata": {
      "needs_background": "light"
     },
     "output_type": "display_data"
    }
   ],
   "source": [
    "# visualization of cases with respect to gender(female and male)\n",
    "gender_d.plot(kind ='bar', xlabel = 'disease', ylabel = 'gender',\n",
    "              title = ' Disease cases with respect to gender(female and male)',\n",
    "              figsize =(15,10), stacked = True, color = ['grey', 'blue', 'skyblue', 'k', 'royalblue', 'silver',\n",
    "                                                     'powderblue', \"indigo\", \"lavender\"])\n",
    "plt.legend();"
   ]
  },
  {
   "cell_type": "markdown",
   "id": "8d1c98ae",
   "metadata": {},
   "source": [
    " Females have more numbers of disease cases than males but melease is more predominant in the female with the case 4940 while for male marburg virus is more predominate with a case of 4641\n",
    " From the dataset provided, it is shown that females have more population than males and also have more distribution of diseases. However, we cannot ascertain that females are mostly affected by the diseases because the dataset is not showing the equal distribution of population among the genders.\n",
    " "
   ]
  },
  {
   "cell_type": "markdown",
   "id": "6bc05e32",
   "metadata": {},
   "source": [
    "###  1. Comparing different diseases againt age groups? If Children or Adults are more affected based on a particular diseases."
   ]
  },
  {
   "cell_type": "code",
   "execution_count": 16,
   "id": "680ccad1",
   "metadata": {},
   "outputs": [
    {
     "data": {
      "text/html": [
       "<div>\n",
       "<style scoped>\n",
       "    .dataframe tbody tr th:only-of-type {\n",
       "        vertical-align: middle;\n",
       "    }\n",
       "\n",
       "    .dataframe tbody tr th {\n",
       "        vertical-align: top;\n",
       "    }\n",
       "\n",
       "    .dataframe thead th {\n",
       "        text-align: right;\n",
       "    }\n",
       "</style>\n",
       "<table border=\"1\" class=\"dataframe\">\n",
       "  <thead>\n",
       "    <tr style=\"text-align: right;\">\n",
       "      <th>disease</th>\n",
       "      <th>Cholera</th>\n",
       "      <th>Diarrhoea</th>\n",
       "      <th>Ebola</th>\n",
       "      <th>Malaria</th>\n",
       "      <th>Marburg Virus</th>\n",
       "      <th>Measles</th>\n",
       "      <th>Meningitis</th>\n",
       "      <th>Rubella Mars</th>\n",
       "      <th>Viral Haemmorrhaphic Fever</th>\n",
       "      <th>Yellow Fever</th>\n",
       "    </tr>\n",
       "    <tr>\n",
       "      <th>age</th>\n",
       "      <th></th>\n",
       "      <th></th>\n",
       "      <th></th>\n",
       "      <th></th>\n",
       "      <th></th>\n",
       "      <th></th>\n",
       "      <th></th>\n",
       "      <th></th>\n",
       "      <th></th>\n",
       "      <th></th>\n",
       "    </tr>\n",
       "  </thead>\n",
       "  <tbody>\n",
       "    <tr>\n",
       "      <th>0</th>\n",
       "      <td>4</td>\n",
       "      <td>1</td>\n",
       "      <td>4</td>\n",
       "      <td>1</td>\n",
       "      <td>1</td>\n",
       "      <td>2</td>\n",
       "      <td>2</td>\n",
       "      <td>6</td>\n",
       "      <td>5</td>\n",
       "      <td>3</td>\n",
       "    </tr>\n",
       "    <tr>\n",
       "      <th>1</th>\n",
       "      <td>130</td>\n",
       "      <td>113</td>\n",
       "      <td>134</td>\n",
       "      <td>131</td>\n",
       "      <td>148</td>\n",
       "      <td>149</td>\n",
       "      <td>156</td>\n",
       "      <td>137</td>\n",
       "      <td>109</td>\n",
       "      <td>151</td>\n",
       "    </tr>\n",
       "    <tr>\n",
       "      <th>2</th>\n",
       "      <td>248</td>\n",
       "      <td>252</td>\n",
       "      <td>245</td>\n",
       "      <td>247</td>\n",
       "      <td>260</td>\n",
       "      <td>259</td>\n",
       "      <td>245</td>\n",
       "      <td>238</td>\n",
       "      <td>254</td>\n",
       "      <td>252</td>\n",
       "    </tr>\n",
       "    <tr>\n",
       "      <th>3</th>\n",
       "      <td>256</td>\n",
       "      <td>249</td>\n",
       "      <td>225</td>\n",
       "      <td>234</td>\n",
       "      <td>214</td>\n",
       "      <td>226</td>\n",
       "      <td>228</td>\n",
       "      <td>224</td>\n",
       "      <td>225</td>\n",
       "      <td>247</td>\n",
       "    </tr>\n",
       "    <tr>\n",
       "      <th>4</th>\n",
       "      <td>232</td>\n",
       "      <td>227</td>\n",
       "      <td>222</td>\n",
       "      <td>191</td>\n",
       "      <td>227</td>\n",
       "      <td>230</td>\n",
       "      <td>218</td>\n",
       "      <td>224</td>\n",
       "      <td>223</td>\n",
       "      <td>227</td>\n",
       "    </tr>\n",
       "    <tr>\n",
       "      <th>5</th>\n",
       "      <td>225</td>\n",
       "      <td>222</td>\n",
       "      <td>204</td>\n",
       "      <td>219</td>\n",
       "      <td>211</td>\n",
       "      <td>207</td>\n",
       "      <td>178</td>\n",
       "      <td>218</td>\n",
       "      <td>203</td>\n",
       "      <td>224</td>\n",
       "    </tr>\n",
       "    <tr>\n",
       "      <th>6</th>\n",
       "      <td>195</td>\n",
       "      <td>208</td>\n",
       "      <td>173</td>\n",
       "      <td>189</td>\n",
       "      <td>188</td>\n",
       "      <td>195</td>\n",
       "      <td>178</td>\n",
       "      <td>206</td>\n",
       "      <td>178</td>\n",
       "      <td>187</td>\n",
       "    </tr>\n",
       "    <tr>\n",
       "      <th>7</th>\n",
       "      <td>201</td>\n",
       "      <td>164</td>\n",
       "      <td>181</td>\n",
       "      <td>174</td>\n",
       "      <td>173</td>\n",
       "      <td>153</td>\n",
       "      <td>182</td>\n",
       "      <td>174</td>\n",
       "      <td>196</td>\n",
       "      <td>171</td>\n",
       "    </tr>\n",
       "    <tr>\n",
       "      <th>8</th>\n",
       "      <td>164</td>\n",
       "      <td>172</td>\n",
       "      <td>179</td>\n",
       "      <td>158</td>\n",
       "      <td>164</td>\n",
       "      <td>159</td>\n",
       "      <td>151</td>\n",
       "      <td>185</td>\n",
       "      <td>170</td>\n",
       "      <td>178</td>\n",
       "    </tr>\n",
       "    <tr>\n",
       "      <th>9</th>\n",
       "      <td>139</td>\n",
       "      <td>161</td>\n",
       "      <td>167</td>\n",
       "      <td>146</td>\n",
       "      <td>150</td>\n",
       "      <td>141</td>\n",
       "      <td>157</td>\n",
       "      <td>161</td>\n",
       "      <td>184</td>\n",
       "      <td>166</td>\n",
       "    </tr>\n",
       "  </tbody>\n",
       "</table>\n",
       "</div>"
      ],
      "text/plain": [
       "disease  Cholera  Diarrhoea  Ebola  Malaria  Marburg Virus  Measles  \\\n",
       "age                                                                   \n",
       "0              4          1      4        1              1        2   \n",
       "1            130        113    134      131            148      149   \n",
       "2            248        252    245      247            260      259   \n",
       "3            256        249    225      234            214      226   \n",
       "4            232        227    222      191            227      230   \n",
       "5            225        222    204      219            211      207   \n",
       "6            195        208    173      189            188      195   \n",
       "7            201        164    181      174            173      153   \n",
       "8            164        172    179      158            164      159   \n",
       "9            139        161    167      146            150      141   \n",
       "\n",
       "disease  Meningitis  Rubella Mars  Viral Haemmorrhaphic Fever  Yellow Fever  \n",
       "age                                                                          \n",
       "0                 2             6                           5             3  \n",
       "1               156           137                         109           151  \n",
       "2               245           238                         254           252  \n",
       "3               228           224                         225           247  \n",
       "4               218           224                         223           227  \n",
       "5               178           218                         203           224  \n",
       "6               178           206                         178           187  \n",
       "7               182           174                         196           171  \n",
       "8               151           185                         170           178  \n",
       "9               157           161                         184           166  "
      ]
     },
     "execution_count": 16,
     "metadata": {},
     "output_type": "execute_result"
    }
   ],
   "source": [
    "# disease base on all age group (unstacking)\n",
    "gender_da =data.groupby(\"age\")[\"disease\"].value_counts().unstack().fillna(0)\n",
    "gender_da.head(10)"
   ]
  },
  {
   "cell_type": "code",
   "execution_count": 17,
   "id": "a8e74b04",
   "metadata": {},
   "outputs": [
    {
     "data": {
      "text/plain": [
       "child_group  adult_group  disease                   \n",
       "0            1            Marburg Virus                 6819\n",
       "                          Malaria                       6774\n",
       "                          Measles                       6653\n",
       "                          Viral Haemmorrhaphic Fever    6648\n",
       "                          Yellow Fever                  6640\n",
       "                          Diarrhoea                     6621\n",
       "                          Cholera                       6616\n",
       "                          Ebola                         6596\n",
       "                          Meningitis                    6554\n",
       "                          Rubella Mars                  6533\n",
       "1            0            Rubella Mars                  2793\n",
       "                          Cholera                       2769\n",
       "                          Yellow Fever                  2767\n",
       "                          Diarrhoea                     2762\n",
       "                          Ebola                         2734\n",
       "                          Marburg Virus                 2724\n",
       "                          Measles                       2722\n",
       "                          Viral Haemmorrhaphic Fever    2720\n",
       "                          Meningitis                    2684\n",
       "                          Malaria                       2678\n",
       "Name: disease, dtype: int64"
      ]
     },
     "execution_count": 17,
     "metadata": {},
     "output_type": "execute_result"
    }
   ],
   "source": [
    "disease_age = data.groupby(['child_group','adult_group'])['disease'].value_counts().sort_values(ascending = False)\n",
    "disease_age"
   ]
  },
  {
   "cell_type": "code",
   "execution_count": 18,
   "id": "aeb05204",
   "metadata": {},
   "outputs": [
    {
     "data": {
      "text/plain": [
       "<AxesSubplot:xlabel='disease', ylabel='count'>"
      ]
     },
     "execution_count": 18,
     "metadata": {},
     "output_type": "execute_result"
    },
    {
     "data": {
      "image/png": "[encoded data removed]",
      "text/plain": [
       "<Figure size 1440x1080 with 1 Axes>"
      ]
     },
     "metadata": {
      "needs_background": "light"
     },
     "output_type": "display_data"
    }
   ],
   "source": [
    "#Let's visualize the columns by plotting the charts\n",
    "plt.figure(figsize =(20, 15))\n",
    "sns.countplot(x = 'disease', hue = 'child_group', data = data, palette = 'Blues_r')"
   ]
  },
  {
   "cell_type": "code",
   "execution_count": 19,
   "id": "dc1e2934",
   "metadata": {},
   "outputs": [
    {
     "data": {
      "image/png": "[encoded data removed]",
      "text/plain": [
       "<Figure size 1440x1080 with 1 Axes>"
      ]
     },
     "metadata": {
      "needs_background": "light"
     },
     "output_type": "display_data"
    }
   ],
   "source": [
    "#Let's visualize the columns by plotting the charts\n",
    "plt.figure(figsize =(20, 15))\n",
    "sns.countplot(x = 'disease', hue = 'adult_group', data = data, palette = 'Blues_r');\n",
    "\n"
   ]
  },
  {
   "cell_type": "markdown",
   "id": "c00f7a48",
   "metadata": {},
   "source": [
    "The two charts above shows that the adult group is more affected across the various diseases and \n",
    "they are mostly affected by malaria with counts of 20,316 adults who were affected by malaria, followed by 20,283 affected \n",
    "by measles and 20,229 affected by cholera."
   ]
  },
  {
   "cell_type": "markdown",
   "id": "5edabc9c",
   "metadata": {},
   "source": [
    "### 2.  Which disease is the most prevalent against settlements?"
   ]
  },
  {
   "cell_type": "code",
   "execution_count": 20,
   "id": "2f6cc7da",
   "metadata": {},
   "outputs": [
    {
     "data": {
      "text/html": [
       "<div>\n",
       "<style scoped>\n",
       "    .dataframe tbody tr th:only-of-type {\n",
       "        vertical-align: middle;\n",
       "    }\n",
       "\n",
       "    .dataframe tbody tr th {\n",
       "        vertical-align: top;\n",
       "    }\n",
       "\n",
       "    .dataframe thead th {\n",
       "        text-align: right;\n",
       "    }\n",
       "</style>\n",
       "<table border=\"1\" class=\"dataframe\">\n",
       "  <thead>\n",
       "    <tr style=\"text-align: right;\">\n",
       "      <th>disease</th>\n",
       "      <th>Cholera</th>\n",
       "      <th>Diarrhoea</th>\n",
       "      <th>Ebola</th>\n",
       "      <th>Malaria</th>\n",
       "      <th>Marburg Virus</th>\n",
       "      <th>Measles</th>\n",
       "      <th>Meningitis</th>\n",
       "      <th>Rubella Mars</th>\n",
       "      <th>Viral Haemmorrhaphic Fever</th>\n",
       "      <th>Yellow Fever</th>\n",
       "    </tr>\n",
       "    <tr>\n",
       "      <th>settlement</th>\n",
       "      <th></th>\n",
       "      <th></th>\n",
       "      <th></th>\n",
       "      <th></th>\n",
       "      <th></th>\n",
       "      <th></th>\n",
       "      <th></th>\n",
       "      <th></th>\n",
       "      <th></th>\n",
       "      <th></th>\n",
       "    </tr>\n",
       "  </thead>\n",
       "  <tbody>\n",
       "    <tr>\n",
       "      <th>Rural</th>\n",
       "      <td>4725</td>\n",
       "      <td>4734</td>\n",
       "      <td>4706</td>\n",
       "      <td>4684</td>\n",
       "      <td>4829</td>\n",
       "      <td>4652</td>\n",
       "      <td>4693</td>\n",
       "      <td>4727</td>\n",
       "      <td>4721</td>\n",
       "      <td>4747</td>\n",
       "    </tr>\n",
       "    <tr>\n",
       "      <th>Urban</th>\n",
       "      <td>4660</td>\n",
       "      <td>4649</td>\n",
       "      <td>4624</td>\n",
       "      <td>4768</td>\n",
       "      <td>4714</td>\n",
       "      <td>4723</td>\n",
       "      <td>4545</td>\n",
       "      <td>4599</td>\n",
       "      <td>4647</td>\n",
       "      <td>4660</td>\n",
       "    </tr>\n",
       "  </tbody>\n",
       "</table>\n",
       "</div>"
      ],
      "text/plain": [
       "disease     Cholera  Diarrhoea  Ebola  Malaria  Marburg Virus  Measles  \\\n",
       "settlement                                                               \n",
       "Rural          4725       4734   4706     4684           4829     4652   \n",
       "Urban          4660       4649   4624     4768           4714     4723   \n",
       "\n",
       "disease     Meningitis  Rubella Mars  Viral Haemmorrhaphic Fever  Yellow Fever  \n",
       "settlement                                                                      \n",
       "Rural             4693          4727                        4721          4747  \n",
       "Urban             4545          4599                        4647          4660  "
      ]
     },
     "execution_count": 20,
     "metadata": {},
     "output_type": "execute_result"
    }
   ],
   "source": [
    "# disease prevailant in both urban and rural setllements \n",
    "settle_d =data.groupby(\"settlement\")[\"disease\"].value_counts().unstack().fillna(0)\n",
    "settle_d"
   ]
  },
  {
   "cell_type": "code",
   "execution_count": 21,
   "id": "2fced7a6",
   "metadata": {},
   "outputs": [
    {
     "data": {
      "image/png": "[encoded data removed]",
      "text/plain": [
       "<Figure size 1080x720 with 1 Axes>"
      ]
     },
     "metadata": {
      "needs_background": "light"
     },
     "output_type": "display_data"
    }
   ],
   "source": [
    "# visualization of disease prevailant in both urban and rural setllements \n",
    "plot = settle_d.plot.bar(figsize =(15,10), color = ['grey', 'blue', 'skyblue', 'k', 'royalblue', 'purple', 'indigo', 'silver',\n",
    "                                                    'lavender', 'c'])\n",
    "plt.xlabel('disease')\n",
    "plt.ylabel('settlemnts')\n",
    "plt.title('disease in setlements')\n",
    "plt.show();"
   ]
  },
  {
   "cell_type": "markdown",
   "id": "0b4aaf0e",
   "metadata": {},
   "source": [
    "For urban settlement we have more case of malaria with a recorded case of 4768. While for Rural settlement we have marburg virus with a prevalent case of 4829.From the visualization of the dataset, it depicts that the diseases have no significant effects based on their settlements. That is to say that irrespective of your settlement whether rural or urban there's little or equal chances of being infected by the diseases."
   ]
  },
  {
   "cell_type": "markdown",
   "id": "5598ae92",
   "metadata": {},
   "source": [
    "### 3.Mortality rate between genders"
   ]
  },
  {
   "cell_type": "code",
   "execution_count": 22,
   "id": "cf8d5bef",
   "metadata": {},
   "outputs": [
    {
     "data": {
      "text/plain": [
       "array(['Alive', 'Dead'], dtype=object)"
      ]
     },
     "execution_count": 22,
     "metadata": {},
     "output_type": "execute_result"
    }
   ],
   "source": [
    "#Replacing 'alive' row to 'Alive'\n",
    "data['health_status'] =data['health_status'].str.replace (\"alive\", \"Alive\")\n",
    "data['health_status'].unique()\n",
    "    "
   ]
  },
  {
   "cell_type": "code",
   "execution_count": 23,
   "id": "370bc584",
   "metadata": {},
   "outputs": [
    {
     "data": {
      "text/plain": [
       "gender  health_status\n",
       "Female  Alive            24366\n",
       "        Dead             24172\n",
       "Male    Dead             22705\n",
       "        Alive            22564\n",
       "Name: health_status, dtype: int64"
      ]
     },
     "execution_count": 23,
     "metadata": {},
     "output_type": "execute_result"
    }
   ],
   "source": [
    "#Value counts of genders against health status\n",
    "Morta_gen = data.groupby('gender')['health_status'].value_counts()\n",
    "Morta_gen"
   ]
  },
  {
   "cell_type": "code",
   "execution_count": 24,
   "id": "9f6bf368",
   "metadata": {},
   "outputs": [
    {
     "data": {
      "text/plain": [
       "Text(0.5, 1.0, 'Mortality range against gender')"
      ]
     },
     "execution_count": 24,
     "metadata": {},
     "output_type": "execute_result"
    },
    {
     "data": {
      "image/png": "[encoded data removed]",
      "text/plain": [
       "<Figure size 1080x576 with 1 Axes>"
      ]
     },
     "metadata": {
      "needs_background": "light"
     },
     "output_type": "display_data"
    }
   ],
   "source": [
    "#Visualizing the results of the two columns\n",
    "plt.figure(figsize=(15, 8))\n",
    "sns.countplot(x = 'gender', hue ='health_status', data = data, palette = 'Blues_r')\n",
    "plt.xlabel('Gender')\n",
    "plt.ylabel('Health_status count')\n",
    "plt.title('Mortality range against gender')"
   ]
  },
  {
   "cell_type": "markdown",
   "id": "42cfc123",
   "metadata": {},
   "source": [
    "The chart shows that females that were dead are more than males that died. There's is a higher population of female on this dataset and alive females are slightly lower than the dead ones with 448 difference between alive and dead. "
   ]
  },
  {
   "cell_type": "markdown",
   "id": "08cbd335",
   "metadata": {},
   "source": [
    "### 4.Mortality rate btween rural and urban settlements"
   ]
  },
  {
   "cell_type": "code",
   "execution_count": 25,
   "id": "e62d50c4",
   "metadata": {},
   "outputs": [
    {
     "data": {
      "text/html": [
       "<div>\n",
       "<style scoped>\n",
       "    .dataframe tbody tr th:only-of-type {\n",
       "        vertical-align: middle;\n",
       "    }\n",
       "\n",
       "    .dataframe tbody tr th {\n",
       "        vertical-align: top;\n",
       "    }\n",
       "\n",
       "    .dataframe thead th {\n",
       "        text-align: right;\n",
       "    }\n",
       "</style>\n",
       "<table border=\"1\" class=\"dataframe\">\n",
       "  <thead>\n",
       "    <tr style=\"text-align: right;\">\n",
       "      <th>health_status</th>\n",
       "      <th>Alive</th>\n",
       "      <th>Dead</th>\n",
       "    </tr>\n",
       "    <tr>\n",
       "      <th>settlement</th>\n",
       "      <th></th>\n",
       "      <th></th>\n",
       "    </tr>\n",
       "  </thead>\n",
       "  <tbody>\n",
       "    <tr>\n",
       "      <th>Rural</th>\n",
       "      <td>0.250887</td>\n",
       "      <td>0.252465</td>\n",
       "    </tr>\n",
       "    <tr>\n",
       "      <th>Urban</th>\n",
       "      <td>0.249395</td>\n",
       "      <td>0.247252</td>\n",
       "    </tr>\n",
       "  </tbody>\n",
       "</table>\n",
       "</div>"
      ],
      "text/plain": [
       "health_status     Alive      Dead\n",
       "settlement                       \n",
       "Rural          0.250887  0.252465\n",
       "Urban          0.249395  0.247252"
      ]
     },
     "execution_count": 25,
     "metadata": {},
     "output_type": "execute_result"
    }
   ],
   "source": [
    "Morta_settlement = pd.crosstab(data['settlement'], data['health_status'], normalize = True)\n",
    "Morta_settlement"
   ]
  },
  {
   "cell_type": "code",
   "execution_count": 26,
   "id": "68dff2b4",
   "metadata": {},
   "outputs": [
    {
     "data": {
      "image/png": "[encoded data removed]",
      "text/plain": [
       "<Figure size 864x360 with 1 Axes>"
      ]
     },
     "metadata": {
      "needs_background": "light"
     },
     "output_type": "display_data"
    }
   ],
   "source": [
    "plt.figure(figsize =(12, 5))\n",
    "sns.countplot(x = 'settlement', data =data, hue = 'health_status', palette = 'Blues_r')\n",
    "plt.xlabel('Settlement')\n",
    "plt.ylabel('Counts of health_status')\n",
    "plt.title('Mortality range against settlement');"
   ]
  },
  {
   "cell_type": "markdown",
   "id": "70a0eb82",
   "metadata": {},
   "source": [
    "The chart above shows that there's slight higher mortality rate in rural settlements than in urban settlement which could be because of lack of basic health facilities and shortage of medical practitioners.  \n",
    "\n",
    "Recommedation: We recommend that more public workers should be sent to rural settlements."
   ]
  },
  {
   "cell_type": "markdown",
   "id": "c8f2f8f9",
   "metadata": {},
   "source": [
    "### 5. Disease across different years"
   ]
  },
  {
   "cell_type": "code",
   "execution_count": 27,
   "id": "a4ccba1e",
   "metadata": {},
   "outputs": [
    {
     "data": {
      "image/png": "[encoded data removed]",
      "text/plain": [
       "<Figure size 432x288 with 1 Axes>"
      ]
     },
     "metadata": {
      "needs_background": "light"
     },
     "output_type": "display_data"
    },
    {
     "data": {
      "text/plain": [
       "<Figure size 1080x576 with 0 Axes>"
      ]
     },
     "metadata": {},
     "output_type": "display_data"
    }
   ],
   "source": [
    "#Using crosstab to visualize different diseases across the years \n",
    "pd.crosstab(data.report_year, data.disease).plot(kind='bar'),\n",
    "plt.figure(figsize=(15,8));\n"
   ]
  },
  {
   "cell_type": "markdown",
   "id": "cf1a1b7b",
   "metadata": {},
   "source": [
    "There's no year that had significant drop in the disease's breakout. This shows if nothing is done to avert or reduce the effect of the diseases on the citizens, we will continue to have increase in death rate."
   ]
  },
  {
   "cell_type": "markdown",
   "id": "92573dda",
   "metadata": {},
   "source": [
    "### 6. Based on the diseases, is there any trends to show if any deadly disease like Malaria can still surface in the future.¶"
   ]
  },
  {
   "cell_type": "code",
   "execution_count": 28,
   "id": "ab20790a",
   "metadata": {},
   "outputs": [
    {
     "data": {
      "text/html": [
       "<div>\n",
       "<style scoped>\n",
       "    .dataframe tbody tr th:only-of-type {\n",
       "        vertical-align: middle;\n",
       "    }\n",
       "\n",
       "    .dataframe tbody tr th {\n",
       "        vertical-align: top;\n",
       "    }\n",
       "\n",
       "    .dataframe thead th {\n",
       "        text-align: right;\n",
       "    }\n",
       "</style>\n",
       "<table border=\"1\" class=\"dataframe\">\n",
       "  <thead>\n",
       "    <tr style=\"text-align: right;\">\n",
       "      <th></th>\n",
       "      <th>gender</th>\n",
       "      <th>gender_male</th>\n",
       "      <th>gender_female</th>\n",
       "      <th>state</th>\n",
       "      <th>settlement</th>\n",
       "      <th>rural_settlement</th>\n",
       "      <th>urban_settlement</th>\n",
       "      <th>report_date</th>\n",
       "      <th>report_year</th>\n",
       "      <th>age</th>\n",
       "      <th>child_group</th>\n",
       "      <th>adult_group</th>\n",
       "      <th>disease</th>\n",
       "      <th>health_status</th>\n",
       "      <th>report_outcome</th>\n",
       "      <th>unconfirmed</th>\n",
       "      <th>confirmed</th>\n",
       "    </tr>\n",
       "  </thead>\n",
       "  <tbody>\n",
       "    <tr>\n",
       "      <th>19</th>\n",
       "      <td>Female</td>\n",
       "      <td>0</td>\n",
       "      <td>1</td>\n",
       "      <td>Adamawa</td>\n",
       "      <td>Rural</td>\n",
       "      <td>1</td>\n",
       "      <td>0</td>\n",
       "      <td>2017-09-23</td>\n",
       "      <td>2017</td>\n",
       "      <td>39</td>\n",
       "      <td>0</td>\n",
       "      <td>1</td>\n",
       "      <td>Malaria</td>\n",
       "      <td>Alive</td>\n",
       "      <td>Not Confirmed</td>\n",
       "      <td>1</td>\n",
       "      <td>0.0</td>\n",
       "    </tr>\n",
       "    <tr>\n",
       "      <th>21</th>\n",
       "      <td>Female</td>\n",
       "      <td>0</td>\n",
       "      <td>1</td>\n",
       "      <td>Rivers</td>\n",
       "      <td>Urban</td>\n",
       "      <td>0</td>\n",
       "      <td>1</td>\n",
       "      <td>2011-02-13</td>\n",
       "      <td>2011</td>\n",
       "      <td>14</td>\n",
       "      <td>1</td>\n",
       "      <td>0</td>\n",
       "      <td>Malaria</td>\n",
       "      <td>Alive</td>\n",
       "      <td>Confirmed</td>\n",
       "      <td>0</td>\n",
       "      <td>1.0</td>\n",
       "    </tr>\n",
       "    <tr>\n",
       "      <th>37</th>\n",
       "      <td>Female</td>\n",
       "      <td>0</td>\n",
       "      <td>1</td>\n",
       "      <td>Kaduna</td>\n",
       "      <td>Rural</td>\n",
       "      <td>1</td>\n",
       "      <td>0</td>\n",
       "      <td>2010-04-02</td>\n",
       "      <td>2010</td>\n",
       "      <td>66</td>\n",
       "      <td>0</td>\n",
       "      <td>1</td>\n",
       "      <td>Malaria</td>\n",
       "      <td>Dead</td>\n",
       "      <td>Confirmed</td>\n",
       "      <td>0</td>\n",
       "      <td>1.0</td>\n",
       "    </tr>\n",
       "    <tr>\n",
       "      <th>38</th>\n",
       "      <td>Male</td>\n",
       "      <td>1</td>\n",
       "      <td>0</td>\n",
       "      <td>Jigawa</td>\n",
       "      <td>Urban</td>\n",
       "      <td>0</td>\n",
       "      <td>1</td>\n",
       "      <td>2017-07-05</td>\n",
       "      <td>2017</td>\n",
       "      <td>8</td>\n",
       "      <td>1</td>\n",
       "      <td>0</td>\n",
       "      <td>Malaria</td>\n",
       "      <td>Alive</td>\n",
       "      <td>Not Confirmed</td>\n",
       "      <td>1</td>\n",
       "      <td>0.0</td>\n",
       "    </tr>\n",
       "    <tr>\n",
       "      <th>40</th>\n",
       "      <td>Female</td>\n",
       "      <td>0</td>\n",
       "      <td>1</td>\n",
       "      <td>Oyo</td>\n",
       "      <td>Urban</td>\n",
       "      <td>0</td>\n",
       "      <td>1</td>\n",
       "      <td>2011-01-22</td>\n",
       "      <td>2011</td>\n",
       "      <td>17</td>\n",
       "      <td>1</td>\n",
       "      <td>0</td>\n",
       "      <td>Malaria</td>\n",
       "      <td>Alive</td>\n",
       "      <td>Confirmed</td>\n",
       "      <td>0</td>\n",
       "      <td>1.0</td>\n",
       "    </tr>\n",
       "  </tbody>\n",
       "</table>\n",
       "</div>"
      ],
      "text/plain": [
       "    gender  gender_male  gender_female    state settlement  rural_settlement  \\\n",
       "19  Female            0              1  Adamawa      Rural                 1   \n",
       "21  Female            0              1   Rivers      Urban                 0   \n",
       "37  Female            0              1   Kaduna      Rural                 1   \n",
       "38    Male            1              0   Jigawa      Urban                 0   \n",
       "40  Female            0              1      Oyo      Urban                 0   \n",
       "\n",
       "    urban_settlement report_date  report_year  age  child_group  adult_group  \\\n",
       "19                 0  2017-09-23         2017   39            0            1   \n",
       "21                 1  2011-02-13         2011   14            1            0   \n",
       "37                 0  2010-04-02         2010   66            0            1   \n",
       "38                 1  2017-07-05         2017    8            1            0   \n",
       "40                 1  2011-01-22         2011   17            1            0   \n",
       "\n",
       "    disease health_status report_outcome  unconfirmed  confirmed  \n",
       "19  Malaria         Alive  Not Confirmed            1        0.0  \n",
       "21  Malaria         Alive      Confirmed            0        1.0  \n",
       "37  Malaria          Dead      Confirmed            0        1.0  \n",
       "38  Malaria         Alive  Not Confirmed            1        0.0  \n",
       "40  Malaria         Alive      Confirmed            0        1.0  "
      ]
     },
     "execution_count": 28,
     "metadata": {},
     "output_type": "execute_result"
    }
   ],
   "source": [
    "#Subsetting disease column to extract malaria\n",
    "dis_malaria = data[data['disease'] == 'Malaria']\n",
    "dis_malaria.head()"
   ]
  },
  {
   "cell_type": "code",
   "execution_count": 29,
   "id": "7044da6c",
   "metadata": {},
   "outputs": [
    {
     "data": {
      "text/plain": [
       "array([2017, 2011, 2010, 2014, 2009, 2015, 2013, 2018, 2012, 2016],\n",
       "      dtype=int64)"
      ]
     },
     "execution_count": 29,
     "metadata": {},
     "output_type": "execute_result"
    }
   ],
   "source": [
    "dis_malaria['report_year'].unique()"
   ]
  },
  {
   "cell_type": "code",
   "execution_count": 30,
   "id": "bd56051a",
   "metadata": {},
   "outputs": [
    {
     "data": {
      "text/plain": [
       "2018    1002\n",
       "2017     995\n",
       "2016     969\n",
       "2010     953\n",
       "2014     952\n",
       "2009     940\n",
       "2013     926\n",
       "2011     913\n",
       "2015     912\n",
       "2012     890\n",
       "Name: report_year, dtype: int64"
      ]
     },
     "execution_count": 30,
     "metadata": {},
     "output_type": "execute_result"
    }
   ],
   "source": [
    "dis_malaria['report_year'].value_counts().sort_values(ascending = False)"
   ]
  },
  {
   "cell_type": "code",
   "execution_count": 31,
   "id": "d8c3ff20",
   "metadata": {},
   "outputs": [
    {
     "data": {
      "image/png": "[encoded data removed]",
      "text/plain": [
       "<Figure size 720x504 with 1 Axes>"
      ]
     },
     "metadata": {
      "needs_background": "light"
     },
     "output_type": "display_data"
    }
   ],
   "source": [
    "plt.figure(figsize =(10, 7))\n",
    "dis_malaria['report_year'].value_counts().sort_values(ascending = False).plot()\n",
    "plt.xticks(rotation = 30)\n",
    "plt.xlabel('Report years for malaria')\n",
    "plt.ylabel('Number of malaria counts  ')\n",
    "plt.title('Trend of Malaria across the past years')\n",
    "plt.show()"
   ]
  },
  {
   "cell_type": "markdown",
   "id": "21185198",
   "metadata": {},
   "source": [
    "From the line chart above it shows that in 2009 there's high increase in malaria, which reduce drastically in 2011, however, there's a sudden rise in 2015 till 2018. This graph has shown that there will be countinous rise of malaria cases.\n",
    "\n",
    "Recommendation: Government should sensitize the public about the seasons when mosquitoes are higher. There should be funding on more research on seasons where malaria will be on the rise.  "
   ]
  },
  {
   "cell_type": "markdown",
   "id": "fa844665",
   "metadata": {},
   "source": [
    "### 7. Occurance rate of malaria based on settlement. Does malaria affect the rurul settlement more than the urban settlement?\n"
   ]
  },
  {
   "cell_type": "code",
   "execution_count": 32,
   "id": "a317cd71",
   "metadata": {},
   "outputs": [
    {
     "data": {
      "text/plain": [
       "Urban    4768\n",
       "Rural    4684\n",
       "Name: settlement, dtype: int64"
      ]
     },
     "execution_count": 32,
     "metadata": {},
     "output_type": "execute_result"
    }
   ],
   "source": [
    "#Checking for counts of settlement\n",
    "malaria_set = dis_malaria['settlement'].value_counts()\n",
    "malaria_set"
   ]
  },
  {
   "cell_type": "code",
   "execution_count": 33,
   "id": "9114bf35",
   "metadata": {},
   "outputs": [
    {
     "data": {
      "image/png": "[encoded data removed]",
      "text/plain": [
       "<Figure size 720x504 with 1 Axes>"
      ]
     },
     "metadata": {},
     "output_type": "display_data"
    }
   ],
   "source": [
    "#Plotting the graph to see the percentage of urban and rural settlement\n",
    "plt.figure(figsize =(10, 7))\n",
    "plt.pie(data['settlement'].value_counts(), labels = data['settlement'].value_counts().index,\n",
    "       startangle = 90,\n",
    "       autopct = '%1.1f%%')\n",
    "plt.legend()\n",
    "plt.show()"
   ]
  },
  {
   "cell_type": "markdown",
   "id": "6342a151",
   "metadata": {},
   "source": [
    "### 8.Based on the diseases, is there any trends to show if any deadly disease like Ebola can still surface in the future.¶"
   ]
  },
  {
   "cell_type": "code",
   "execution_count": 34,
   "id": "94c4de77",
   "metadata": {},
   "outputs": [
    {
     "data": {
      "text/html": [
       "<div>\n",
       "<style scoped>\n",
       "    .dataframe tbody tr th:only-of-type {\n",
       "        vertical-align: middle;\n",
       "    }\n",
       "\n",
       "    .dataframe tbody tr th {\n",
       "        vertical-align: top;\n",
       "    }\n",
       "\n",
       "    .dataframe thead th {\n",
       "        text-align: right;\n",
       "    }\n",
       "</style>\n",
       "<table border=\"1\" class=\"dataframe\">\n",
       "  <thead>\n",
       "    <tr style=\"text-align: right;\">\n",
       "      <th></th>\n",
       "      <th>gender</th>\n",
       "      <th>gender_male</th>\n",
       "      <th>gender_female</th>\n",
       "      <th>state</th>\n",
       "      <th>settlement</th>\n",
       "      <th>rural_settlement</th>\n",
       "      <th>urban_settlement</th>\n",
       "      <th>report_date</th>\n",
       "      <th>report_year</th>\n",
       "      <th>age</th>\n",
       "      <th>child_group</th>\n",
       "      <th>adult_group</th>\n",
       "      <th>disease</th>\n",
       "      <th>health_status</th>\n",
       "      <th>report_outcome</th>\n",
       "      <th>unconfirmed</th>\n",
       "      <th>confirmed</th>\n",
       "    </tr>\n",
       "  </thead>\n",
       "  <tbody>\n",
       "    <tr>\n",
       "      <th>5</th>\n",
       "      <td>Female</td>\n",
       "      <td>0</td>\n",
       "      <td>1</td>\n",
       "      <td>Kaduna</td>\n",
       "      <td>Rural</td>\n",
       "      <td>1</td>\n",
       "      <td>0</td>\n",
       "      <td>2012-06-27</td>\n",
       "      <td>2012</td>\n",
       "      <td>44</td>\n",
       "      <td>0</td>\n",
       "      <td>1</td>\n",
       "      <td>Ebola</td>\n",
       "      <td>Alive</td>\n",
       "      <td>Confirmed</td>\n",
       "      <td>1</td>\n",
       "      <td>0.0</td>\n",
       "    </tr>\n",
       "    <tr>\n",
       "      <th>13</th>\n",
       "      <td>Male</td>\n",
       "      <td>1</td>\n",
       "      <td>0</td>\n",
       "      <td>Nasarawa</td>\n",
       "      <td>Rural</td>\n",
       "      <td>1</td>\n",
       "      <td>0</td>\n",
       "      <td>2016-11-19</td>\n",
       "      <td>2016</td>\n",
       "      <td>3</td>\n",
       "      <td>1</td>\n",
       "      <td>0</td>\n",
       "      <td>Ebola</td>\n",
       "      <td>Alive</td>\n",
       "      <td>Not Confirmed</td>\n",
       "      <td>1</td>\n",
       "      <td>0.0</td>\n",
       "    </tr>\n",
       "    <tr>\n",
       "      <th>35</th>\n",
       "      <td>Female</td>\n",
       "      <td>0</td>\n",
       "      <td>1</td>\n",
       "      <td>Katsina</td>\n",
       "      <td>Urban</td>\n",
       "      <td>0</td>\n",
       "      <td>1</td>\n",
       "      <td>2014-01-06</td>\n",
       "      <td>2014</td>\n",
       "      <td>27</td>\n",
       "      <td>0</td>\n",
       "      <td>1</td>\n",
       "      <td>Ebola</td>\n",
       "      <td>Alive</td>\n",
       "      <td>Confirmed</td>\n",
       "      <td>1</td>\n",
       "      <td>0.0</td>\n",
       "    </tr>\n",
       "    <tr>\n",
       "      <th>48</th>\n",
       "      <td>Male</td>\n",
       "      <td>1</td>\n",
       "      <td>0</td>\n",
       "      <td>Katsina</td>\n",
       "      <td>Urban</td>\n",
       "      <td>0</td>\n",
       "      <td>1</td>\n",
       "      <td>2018-04-20</td>\n",
       "      <td>2018</td>\n",
       "      <td>66</td>\n",
       "      <td>0</td>\n",
       "      <td>1</td>\n",
       "      <td>Ebola</td>\n",
       "      <td>Alive</td>\n",
       "      <td>Not Confirmed</td>\n",
       "      <td>1</td>\n",
       "      <td>0.0</td>\n",
       "    </tr>\n",
       "    <tr>\n",
       "      <th>84</th>\n",
       "      <td>Female</td>\n",
       "      <td>0</td>\n",
       "      <td>1</td>\n",
       "      <td>Jigawa</td>\n",
       "      <td>Rural</td>\n",
       "      <td>1</td>\n",
       "      <td>0</td>\n",
       "      <td>2011-11-04</td>\n",
       "      <td>2011</td>\n",
       "      <td>24</td>\n",
       "      <td>0</td>\n",
       "      <td>1</td>\n",
       "      <td>Ebola</td>\n",
       "      <td>Dead</td>\n",
       "      <td>Confirmed</td>\n",
       "      <td>1</td>\n",
       "      <td>0.0</td>\n",
       "    </tr>\n",
       "  </tbody>\n",
       "</table>\n",
       "</div>"
      ],
      "text/plain": [
       "    gender  gender_male  gender_female     state settlement  rural_settlement  \\\n",
       "5   Female            0              1    Kaduna      Rural                 1   \n",
       "13    Male            1              0  Nasarawa      Rural                 1   \n",
       "35  Female            0              1   Katsina      Urban                 0   \n",
       "48    Male            1              0   Katsina      Urban                 0   \n",
       "84  Female            0              1    Jigawa      Rural                 1   \n",
       "\n",
       "    urban_settlement report_date  report_year  age  child_group  adult_group  \\\n",
       "5                  0  2012-06-27         2012   44            0            1   \n",
       "13                 0  2016-11-19         2016    3            1            0   \n",
       "35                 1  2014-01-06         2014   27            0            1   \n",
       "48                 1  2018-04-20         2018   66            0            1   \n",
       "84                 0  2011-11-04         2011   24            0            1   \n",
       "\n",
       "   disease health_status report_outcome  unconfirmed  confirmed  \n",
       "5    Ebola         Alive      Confirmed            1        0.0  \n",
       "13   Ebola         Alive  Not Confirmed            1        0.0  \n",
       "35   Ebola         Alive      Confirmed            1        0.0  \n",
       "48   Ebola         Alive  Not Confirmed            1        0.0  \n",
       "84   Ebola          Dead      Confirmed            1        0.0  "
      ]
     },
     "execution_count": 34,
     "metadata": {},
     "output_type": "execute_result"
    }
   ],
   "source": [
    "#Subsetting disease column to extract ebola\n",
    "dis_ebola = data[data['disease'] == 'Ebola']\n",
    "dis_ebola.head()"
   ]
  },
  {
   "cell_type": "code",
   "execution_count": 35,
   "id": "fed69b7b",
   "metadata": {},
   "outputs": [
    {
     "data": {
      "text/plain": [
       "array([2012, 2016, 2014, 2018, 2011, 2017, 2015, 2009, 2013, 2010],\n",
       "      dtype=int64)"
      ]
     },
     "execution_count": 35,
     "metadata": {},
     "output_type": "execute_result"
    }
   ],
   "source": [
    "dis_ebola['report_year'].unique()"
   ]
  },
  {
   "cell_type": "code",
   "execution_count": 36,
   "id": "efd32f77",
   "metadata": {},
   "outputs": [
    {
     "data": {
      "text/plain": [
       "2015    972\n",
       "2013    971\n",
       "2012    969\n",
       "2010    954\n",
       "2016    942\n",
       "2017    932\n",
       "2009    919\n",
       "2014    915\n",
       "2018    881\n",
       "2011    875\n",
       "Name: report_year, dtype: int64"
      ]
     },
     "execution_count": 36,
     "metadata": {},
     "output_type": "execute_result"
    }
   ],
   "source": [
    "dis_ebola['report_year'].value_counts().sort_values(ascending = False)"
   ]
  },
  {
   "cell_type": "code",
   "execution_count": 37,
   "id": "522c8cf1",
   "metadata": {},
   "outputs": [
    {
     "data": {
      "image/png": "[encoded data removed]",
      "text/plain": [
       "<Figure size 720x504 with 1 Axes>"
      ]
     },
     "metadata": {
      "needs_background": "light"
     },
     "output_type": "display_data"
    }
   ],
   "source": [
    "plt.figure(figsize =(10, 7))\n",
    "dis_ebola['report_year'].value_counts().sort_values(ascending = False).plot()\n",
    "plt.xticks(rotation = 30)\n",
    "plt.xlabel('Report years for ebola')\n",
    "plt.ylabel('Number of ebola counts  ')\n",
    "plt.title('Trend of Ebola across the past years')\n",
    "plt.show()"
   ]
  },
  {
   "cell_type": "markdown",
   "id": "232e4f3e",
   "metadata": {},
   "source": [
    "### 9. Is there any correlation between the columns that will predict if age can have high rate of contacting a particular disease"
   ]
  },
  {
   "cell_type": "code",
   "execution_count": 38,
   "id": "155c051b",
   "metadata": {},
   "outputs": [
    {
     "data": {
      "text/html": [
       "<div>\n",
       "<style scoped>\n",
       "    .dataframe tbody tr th:only-of-type {\n",
       "        vertical-align: middle;\n",
       "    }\n",
       "\n",
       "    .dataframe tbody tr th {\n",
       "        vertical-align: top;\n",
       "    }\n",
       "\n",
       "    .dataframe thead th {\n",
       "        text-align: right;\n",
       "    }\n",
       "</style>\n",
       "<table border=\"1\" class=\"dataframe\">\n",
       "  <thead>\n",
       "    <tr style=\"text-align: right;\">\n",
       "      <th></th>\n",
       "      <th>gender_male</th>\n",
       "      <th>gender_female</th>\n",
       "      <th>rural_settlement</th>\n",
       "      <th>urban_settlement</th>\n",
       "      <th>report_year</th>\n",
       "      <th>age</th>\n",
       "      <th>child_group</th>\n",
       "      <th>adult_group</th>\n",
       "      <th>unconfirmed</th>\n",
       "      <th>confirmed</th>\n",
       "    </tr>\n",
       "  </thead>\n",
       "  <tbody>\n",
       "    <tr>\n",
       "      <th>gender_male</th>\n",
       "      <td>1.000000</td>\n",
       "      <td>-1.000000</td>\n",
       "      <td>-0.001206</td>\n",
       "      <td>0.001206</td>\n",
       "      <td>0.003437</td>\n",
       "      <td>0.000500</td>\n",
       "      <td>-0.000230</td>\n",
       "      <td>0.000230</td>\n",
       "      <td>0.003952</td>\n",
       "      <td>-0.003946</td>\n",
       "    </tr>\n",
       "    <tr>\n",
       "      <th>gender_female</th>\n",
       "      <td>-1.000000</td>\n",
       "      <td>1.000000</td>\n",
       "      <td>0.001206</td>\n",
       "      <td>-0.001206</td>\n",
       "      <td>-0.003437</td>\n",
       "      <td>-0.000500</td>\n",
       "      <td>0.000230</td>\n",
       "      <td>-0.000230</td>\n",
       "      <td>-0.003952</td>\n",
       "      <td>0.003946</td>\n",
       "    </tr>\n",
       "    <tr>\n",
       "      <th>rural_settlement</th>\n",
       "      <td>-0.001206</td>\n",
       "      <td>0.001206</td>\n",
       "      <td>1.000000</td>\n",
       "      <td>-1.000000</td>\n",
       "      <td>-0.005095</td>\n",
       "      <td>0.003776</td>\n",
       "      <td>-0.000995</td>\n",
       "      <td>0.000995</td>\n",
       "      <td>0.001320</td>\n",
       "      <td>-0.001314</td>\n",
       "    </tr>\n",
       "    <tr>\n",
       "      <th>urban_settlement</th>\n",
       "      <td>0.001206</td>\n",
       "      <td>-0.001206</td>\n",
       "      <td>-1.000000</td>\n",
       "      <td>1.000000</td>\n",
       "      <td>0.005095</td>\n",
       "      <td>-0.003776</td>\n",
       "      <td>0.000995</td>\n",
       "      <td>-0.000995</td>\n",
       "      <td>-0.001320</td>\n",
       "      <td>0.001314</td>\n",
       "    </tr>\n",
       "    <tr>\n",
       "      <th>report_year</th>\n",
       "      <td>0.003437</td>\n",
       "      <td>-0.003437</td>\n",
       "      <td>-0.005095</td>\n",
       "      <td>0.005095</td>\n",
       "      <td>1.000000</td>\n",
       "      <td>0.109491</td>\n",
       "      <td>-0.076449</td>\n",
       "      <td>0.076449</td>\n",
       "      <td>0.002207</td>\n",
       "      <td>-0.002217</td>\n",
       "    </tr>\n",
       "    <tr>\n",
       "      <th>age</th>\n",
       "      <td>0.000500</td>\n",
       "      <td>-0.000500</td>\n",
       "      <td>0.003776</td>\n",
       "      <td>-0.003776</td>\n",
       "      <td>0.109491</td>\n",
       "      <td>1.000000</td>\n",
       "      <td>-0.773713</td>\n",
       "      <td>0.773713</td>\n",
       "      <td>0.006058</td>\n",
       "      <td>-0.006056</td>\n",
       "    </tr>\n",
       "    <tr>\n",
       "      <th>child_group</th>\n",
       "      <td>-0.000230</td>\n",
       "      <td>0.000230</td>\n",
       "      <td>-0.000995</td>\n",
       "      <td>0.000995</td>\n",
       "      <td>-0.076449</td>\n",
       "      <td>-0.773713</td>\n",
       "      <td>1.000000</td>\n",
       "      <td>-1.000000</td>\n",
       "      <td>-0.004578</td>\n",
       "      <td>0.004574</td>\n",
       "    </tr>\n",
       "    <tr>\n",
       "      <th>adult_group</th>\n",
       "      <td>0.000230</td>\n",
       "      <td>-0.000230</td>\n",
       "      <td>0.000995</td>\n",
       "      <td>-0.000995</td>\n",
       "      <td>0.076449</td>\n",
       "      <td>0.773713</td>\n",
       "      <td>-1.000000</td>\n",
       "      <td>1.000000</td>\n",
       "      <td>0.004578</td>\n",
       "      <td>-0.004574</td>\n",
       "    </tr>\n",
       "    <tr>\n",
       "      <th>unconfirmed</th>\n",
       "      <td>0.003952</td>\n",
       "      <td>-0.003952</td>\n",
       "      <td>0.001320</td>\n",
       "      <td>-0.001320</td>\n",
       "      <td>0.002207</td>\n",
       "      <td>0.006058</td>\n",
       "      <td>-0.004578</td>\n",
       "      <td>0.004578</td>\n",
       "      <td>1.000000</td>\n",
       "      <td>-1.000000</td>\n",
       "    </tr>\n",
       "    <tr>\n",
       "      <th>confirmed</th>\n",
       "      <td>-0.003946</td>\n",
       "      <td>0.003946</td>\n",
       "      <td>-0.001314</td>\n",
       "      <td>0.001314</td>\n",
       "      <td>-0.002217</td>\n",
       "      <td>-0.006056</td>\n",
       "      <td>0.004574</td>\n",
       "      <td>-0.004574</td>\n",
       "      <td>-1.000000</td>\n",
       "      <td>1.000000</td>\n",
       "    </tr>\n",
       "  </tbody>\n",
       "</table>\n",
       "</div>"
      ],
      "text/plain": [
       "                  gender_male  gender_female  rural_settlement  \\\n",
       "gender_male          1.000000      -1.000000         -0.001206   \n",
       "gender_female       -1.000000       1.000000          0.001206   \n",
       "rural_settlement    -0.001206       0.001206          1.000000   \n",
       "urban_settlement     0.001206      -0.001206         -1.000000   \n",
       "report_year          0.003437      -0.003437         -0.005095   \n",
       "age                  0.000500      -0.000500          0.003776   \n",
       "child_group         -0.000230       0.000230         -0.000995   \n",
       "adult_group          0.000230      -0.000230          0.000995   \n",
       "unconfirmed          0.003952      -0.003952          0.001320   \n",
       "confirmed           -0.003946       0.003946         -0.001314   \n",
       "\n",
       "                  urban_settlement  report_year       age  child_group  \\\n",
       "gender_male               0.001206     0.003437  0.000500    -0.000230   \n",
       "gender_female            -0.001206    -0.003437 -0.000500     0.000230   \n",
       "rural_settlement         -1.000000    -0.005095  0.003776    -0.000995   \n",
       "urban_settlement          1.000000     0.005095 -0.003776     0.000995   \n",
       "report_year               0.005095     1.000000  0.109491    -0.076449   \n",
       "age                      -0.003776     0.109491  1.000000    -0.773713   \n",
       "child_group               0.000995    -0.076449 -0.773713     1.000000   \n",
       "adult_group              -0.000995     0.076449  0.773713    -1.000000   \n",
       "unconfirmed              -0.001320     0.002207  0.006058    -0.004578   \n",
       "confirmed                 0.001314    -0.002217 -0.006056     0.004574   \n",
       "\n",
       "                  adult_group  unconfirmed  confirmed  \n",
       "gender_male          0.000230     0.003952  -0.003946  \n",
       "gender_female       -0.000230    -0.003952   0.003946  \n",
       "rural_settlement     0.000995     0.001320  -0.001314  \n",
       "urban_settlement    -0.000995    -0.001320   0.001314  \n",
       "report_year          0.076449     0.002207  -0.002217  \n",
       "age                  0.773713     0.006058  -0.006056  \n",
       "child_group         -1.000000    -0.004578   0.004574  \n",
       "adult_group          1.000000     0.004578  -0.004574  \n",
       "unconfirmed          0.004578     1.000000  -1.000000  \n",
       "confirmed           -0.004574    -1.000000   1.000000  "
      ]
     },
     "execution_count": 38,
     "metadata": {},
     "output_type": "execute_result"
    }
   ],
   "source": [
    "#correlation table\n",
    "corr_dis = data.corr()\n",
    "corr_dis"
   ]
  },
  {
   "cell_type": "code",
   "execution_count": 39,
   "id": "91cd6bc5",
   "metadata": {},
   "outputs": [
    {
     "data": {
      "image/png": "[encoded data removed]",
      "text/plain": [
       "<Figure size 864x720 with 2 Axes>"
      ]
     },
     "metadata": {
      "needs_background": "light"
     },
     "output_type": "display_data"
    }
   ],
   "source": [
    "#Using heatmap to visualize the correlation \n",
    "plt.figure(figsize=(12, 10))\n",
    "sns.heatmap(corr_dis, annot = True,linewidths=.5, fmt= '.1f')\n",
    "plt.show()"
   ]
  },
  {
   "cell_type": "markdown",
   "id": "06b04e31",
   "metadata": {},
   "source": [
    "### 10.Mortality rate against age groups ? Trying to know which age groups are more affected by the diseases"
   ]
  },
  {
   "cell_type": "code",
   "execution_count": 40,
   "id": "2d08aeb0",
   "metadata": {},
   "outputs": [
    {
     "data": {
      "text/html": [
       "<div>\n",
       "<style scoped>\n",
       "    .dataframe tbody tr th:only-of-type {\n",
       "        vertical-align: middle;\n",
       "    }\n",
       "\n",
       "    .dataframe tbody tr th {\n",
       "        vertical-align: top;\n",
       "    }\n",
       "\n",
       "    .dataframe thead th {\n",
       "        text-align: right;\n",
       "    }\n",
       "</style>\n",
       "<table border=\"1\" class=\"dataframe\">\n",
       "  <thead>\n",
       "    <tr style=\"text-align: right;\">\n",
       "      <th></th>\n",
       "      <th>gender</th>\n",
       "      <th>gender_male</th>\n",
       "      <th>gender_female</th>\n",
       "      <th>state</th>\n",
       "      <th>settlement</th>\n",
       "      <th>rural_settlement</th>\n",
       "      <th>urban_settlement</th>\n",
       "      <th>report_date</th>\n",
       "      <th>report_year</th>\n",
       "      <th>age</th>\n",
       "      <th>child_group</th>\n",
       "      <th>adult_group</th>\n",
       "      <th>disease</th>\n",
       "      <th>health_status</th>\n",
       "      <th>report_outcome</th>\n",
       "      <th>unconfirmed</th>\n",
       "      <th>confirmed</th>\n",
       "      <th>Age_group</th>\n",
       "    </tr>\n",
       "  </thead>\n",
       "  <tbody>\n",
       "    <tr>\n",
       "      <th>0</th>\n",
       "      <td>Female</td>\n",
       "      <td>0</td>\n",
       "      <td>1</td>\n",
       "      <td>Rivers</td>\n",
       "      <td>Rural</td>\n",
       "      <td>1</td>\n",
       "      <td>0</td>\n",
       "      <td>2018-05-15</td>\n",
       "      <td>2018</td>\n",
       "      <td>32</td>\n",
       "      <td>0</td>\n",
       "      <td>1</td>\n",
       "      <td>Cholera</td>\n",
       "      <td>Alive</td>\n",
       "      <td>confirmed</td>\n",
       "      <td>0</td>\n",
       "      <td>1.0</td>\n",
       "      <td>YoungAdult</td>\n",
       "    </tr>\n",
       "    <tr>\n",
       "      <th>1</th>\n",
       "      <td>Male</td>\n",
       "      <td>1</td>\n",
       "      <td>0</td>\n",
       "      <td>Ebonyi</td>\n",
       "      <td>Rural</td>\n",
       "      <td>1</td>\n",
       "      <td>0</td>\n",
       "      <td>2017-02-28</td>\n",
       "      <td>2017</td>\n",
       "      <td>32</td>\n",
       "      <td>0</td>\n",
       "      <td>1</td>\n",
       "      <td>Marburg Virus</td>\n",
       "      <td>Alive</td>\n",
       "      <td>Confirmed</td>\n",
       "      <td>1</td>\n",
       "      <td>0.0</td>\n",
       "      <td>YoungAdult</td>\n",
       "    </tr>\n",
       "    <tr>\n",
       "      <th>2</th>\n",
       "      <td>Female</td>\n",
       "      <td>0</td>\n",
       "      <td>1</td>\n",
       "      <td>Ogun</td>\n",
       "      <td>Urban</td>\n",
       "      <td>0</td>\n",
       "      <td>1</td>\n",
       "      <td>2012-03-02</td>\n",
       "      <td>2012</td>\n",
       "      <td>24</td>\n",
       "      <td>0</td>\n",
       "      <td>1</td>\n",
       "      <td>Marburg Virus</td>\n",
       "      <td>Dead</td>\n",
       "      <td>Not Confirmed</td>\n",
       "      <td>1</td>\n",
       "      <td>0.0</td>\n",
       "      <td>YoungAdult</td>\n",
       "    </tr>\n",
       "    <tr>\n",
       "      <th>3</th>\n",
       "      <td>Female</td>\n",
       "      <td>0</td>\n",
       "      <td>1</td>\n",
       "      <td>Ondo</td>\n",
       "      <td>Rural</td>\n",
       "      <td>1</td>\n",
       "      <td>0</td>\n",
       "      <td>2010-05-21</td>\n",
       "      <td>2010</td>\n",
       "      <td>63</td>\n",
       "      <td>0</td>\n",
       "      <td>1</td>\n",
       "      <td>Measles</td>\n",
       "      <td>Alive</td>\n",
       "      <td>Not Confirmed</td>\n",
       "      <td>1</td>\n",
       "      <td>0.0</td>\n",
       "      <td>Elder</td>\n",
       "    </tr>\n",
       "    <tr>\n",
       "      <th>4</th>\n",
       "      <td>Male</td>\n",
       "      <td>1</td>\n",
       "      <td>0</td>\n",
       "      <td>Oyo</td>\n",
       "      <td>Urban</td>\n",
       "      <td>0</td>\n",
       "      <td>1</td>\n",
       "      <td>2017-08-28</td>\n",
       "      <td>2017</td>\n",
       "      <td>9</td>\n",
       "      <td>1</td>\n",
       "      <td>0</td>\n",
       "      <td>Rubella Mars</td>\n",
       "      <td>Alive</td>\n",
       "      <td>Confirmed</td>\n",
       "      <td>1</td>\n",
       "      <td>0.0</td>\n",
       "      <td>Child</td>\n",
       "    </tr>\n",
       "  </tbody>\n",
       "</table>\n",
       "</div>"
      ],
      "text/plain": [
       "   gender  gender_male  gender_female   state settlement  rural_settlement  \\\n",
       "0  Female            0              1  Rivers      Rural                 1   \n",
       "1    Male            1              0  Ebonyi      Rural                 1   \n",
       "2  Female            0              1    Ogun      Urban                 0   \n",
       "3  Female            0              1    Ondo      Rural                 1   \n",
       "4    Male            1              0     Oyo      Urban                 0   \n",
       "\n",
       "   urban_settlement report_date  report_year  age  child_group  adult_group  \\\n",
       "0                 0  2018-05-15         2018   32            0            1   \n",
       "1                 0  2017-02-28         2017   32            0            1   \n",
       "2                 1  2012-03-02         2012   24            0            1   \n",
       "3                 0  2010-05-21         2010   63            0            1   \n",
       "4                 1  2017-08-28         2017    9            1            0   \n",
       "\n",
       "         disease health_status report_outcome  unconfirmed  confirmed  \\\n",
       "0        Cholera         Alive      confirmed            0        1.0   \n",
       "1  Marburg Virus         Alive      Confirmed            1        0.0   \n",
       "2  Marburg Virus          Dead  Not Confirmed            1        0.0   \n",
       "3        Measles         Alive  Not Confirmed            1        0.0   \n",
       "4   Rubella Mars         Alive      Confirmed            1        0.0   \n",
       "\n",
       "    Age_group  \n",
       "0  YoungAdult  \n",
       "1  YoungAdult  \n",
       "2  YoungAdult  \n",
       "3       Elder  \n",
       "4       Child  "
      ]
     },
     "execution_count": 40,
     "metadata": {},
     "output_type": "execute_result"
    }
   ],
   "source": [
    "#Creating new columns for the age groups\n",
    "data['Age_group']= ['Baby'if i <5 else'Child'if i < 13 else \"Teenager\" if i < 20 else 'YoungAdult' if i< 35 else 'Adult' if i< 55 else 'Elder'for i in data.age]\n",
    "data.head()"
   ]
  },
  {
   "cell_type": "code",
   "execution_count": 41,
   "id": "8a8a6d99",
   "metadata": {},
   "outputs": [
    {
     "data": {
      "text/plain": [
       "Adult         0.25\n",
       "Elder         0.24\n",
       "YoungAdult    0.19\n",
       "Child         0.14\n",
       "Baby          0.09\n",
       "Teenager      0.09\n",
       "Name: Age_group, dtype: float64"
      ]
     },
     "execution_count": 41,
     "metadata": {},
     "output_type": "execute_result"
    }
   ],
   "source": [
    "#Checking the percentage of the age groups\n",
    "data.Age_group.value_counts(normalize = True).round(2)"
   ]
  },
  {
   "cell_type": "code",
   "execution_count": 42,
   "id": "352843f6",
   "metadata": {},
   "outputs": [
    {
     "data": {
      "image/png": "[encoded data removed]",
      "text/plain": [
       "<Figure size 720x504 with 1 Axes>"
      ]
     },
     "metadata": {},
     "output_type": "display_data"
    }
   ],
   "source": [
    "#Using pie chart to see the percentage of the age groups\n",
    "plt.figure(figsize =(10, 7))\n",
    "plt.pie(data['Age_group'].value_counts(), labels = data['Age_group'].value_counts().index,\n",
    "       startangle = 90,\n",
    "       autopct = '%1.1f%%')\n",
    "plt.legend()\n",
    "plt.show()"
   ]
  },
  {
   "cell_type": "code",
   "execution_count": 43,
   "id": "4d9cfef5",
   "metadata": {},
   "outputs": [
    {
     "data": {
      "text/html": [
       "<div>\n",
       "<style scoped>\n",
       "    .dataframe tbody tr th:only-of-type {\n",
       "        vertical-align: middle;\n",
       "    }\n",
       "\n",
       "    .dataframe tbody tr th {\n",
       "        vertical-align: top;\n",
       "    }\n",
       "\n",
       "    .dataframe thead th {\n",
       "        text-align: right;\n",
       "    }\n",
       "</style>\n",
       "<table border=\"1\" class=\"dataframe\">\n",
       "  <thead>\n",
       "    <tr style=\"text-align: right;\">\n",
       "      <th>disease</th>\n",
       "      <th>Cholera</th>\n",
       "      <th>Diarrhoea</th>\n",
       "      <th>Ebola</th>\n",
       "      <th>Malaria</th>\n",
       "      <th>Marburg Virus</th>\n",
       "      <th>Measles</th>\n",
       "      <th>Meningitis</th>\n",
       "      <th>Rubella Mars</th>\n",
       "      <th>Viral Haemmorrhaphic Fever</th>\n",
       "      <th>Yellow Fever</th>\n",
       "    </tr>\n",
       "    <tr>\n",
       "      <th>Age_group</th>\n",
       "      <th></th>\n",
       "      <th></th>\n",
       "      <th></th>\n",
       "      <th></th>\n",
       "      <th></th>\n",
       "      <th></th>\n",
       "      <th></th>\n",
       "      <th></th>\n",
       "      <th></th>\n",
       "      <th></th>\n",
       "    </tr>\n",
       "  </thead>\n",
       "  <tbody>\n",
       "    <tr>\n",
       "      <th>Adult</th>\n",
       "      <td>2276</td>\n",
       "      <td>2308</td>\n",
       "      <td>2255</td>\n",
       "      <td>2384</td>\n",
       "      <td>2458</td>\n",
       "      <td>2367</td>\n",
       "      <td>2338</td>\n",
       "      <td>2353</td>\n",
       "      <td>2325</td>\n",
       "      <td>2394</td>\n",
       "    </tr>\n",
       "    <tr>\n",
       "      <th>Baby</th>\n",
       "      <td>870</td>\n",
       "      <td>842</td>\n",
       "      <td>830</td>\n",
       "      <td>804</td>\n",
       "      <td>850</td>\n",
       "      <td>866</td>\n",
       "      <td>849</td>\n",
       "      <td>829</td>\n",
       "      <td>816</td>\n",
       "      <td>880</td>\n",
       "    </tr>\n",
       "    <tr>\n",
       "      <th>Child</th>\n",
       "      <td>1317</td>\n",
       "      <td>1339</td>\n",
       "      <td>1308</td>\n",
       "      <td>1283</td>\n",
       "      <td>1274</td>\n",
       "      <td>1259</td>\n",
       "      <td>1226</td>\n",
       "      <td>1342</td>\n",
       "      <td>1299</td>\n",
       "      <td>1306</td>\n",
       "    </tr>\n",
       "    <tr>\n",
       "      <th>Elder</th>\n",
       "      <td>2311</td>\n",
       "      <td>2313</td>\n",
       "      <td>2315</td>\n",
       "      <td>2310</td>\n",
       "      <td>2338</td>\n",
       "      <td>2287</td>\n",
       "      <td>2291</td>\n",
       "      <td>2210</td>\n",
       "      <td>2352</td>\n",
       "      <td>2239</td>\n",
       "    </tr>\n",
       "    <tr>\n",
       "      <th>Teenager</th>\n",
       "      <td>814</td>\n",
       "      <td>848</td>\n",
       "      <td>838</td>\n",
       "      <td>835</td>\n",
       "      <td>852</td>\n",
       "      <td>837</td>\n",
       "      <td>829</td>\n",
       "      <td>878</td>\n",
       "      <td>870</td>\n",
       "      <td>798</td>\n",
       "    </tr>\n",
       "    <tr>\n",
       "      <th>YoungAdult</th>\n",
       "      <td>1797</td>\n",
       "      <td>1733</td>\n",
       "      <td>1784</td>\n",
       "      <td>1836</td>\n",
       "      <td>1771</td>\n",
       "      <td>1759</td>\n",
       "      <td>1705</td>\n",
       "      <td>1714</td>\n",
       "      <td>1706</td>\n",
       "      <td>1790</td>\n",
       "    </tr>\n",
       "  </tbody>\n",
       "</table>\n",
       "</div>"
      ],
      "text/plain": [
       "disease     Cholera  Diarrhoea  Ebola  Malaria  Marburg Virus  Measles  \\\n",
       "Age_group                                                                \n",
       "Adult          2276       2308   2255     2384           2458     2367   \n",
       "Baby            870        842    830      804            850      866   \n",
       "Child          1317       1339   1308     1283           1274     1259   \n",
       "Elder          2311       2313   2315     2310           2338     2287   \n",
       "Teenager        814        848    838      835            852      837   \n",
       "YoungAdult     1797       1733   1784     1836           1771     1759   \n",
       "\n",
       "disease     Meningitis  Rubella Mars  Viral Haemmorrhaphic Fever  Yellow Fever  \n",
       "Age_group                                                                       \n",
       "Adult             2338          2353                        2325          2394  \n",
       "Baby               849           829                         816           880  \n",
       "Child             1226          1342                        1299          1306  \n",
       "Elder             2291          2210                        2352          2239  \n",
       "Teenager           829           878                         870           798  \n",
       "YoungAdult        1705          1714                        1706          1790  "
      ]
     },
     "execution_count": 43,
     "metadata": {},
     "output_type": "execute_result"
    }
   ],
   "source": [
    "age_dis = data.groupby(['Age_group'])['disease'].value_counts().unstack()\n",
    "age_dis"
   ]
  },
  {
   "cell_type": "code",
   "execution_count": 44,
   "id": "8491d076",
   "metadata": {},
   "outputs": [
    {
     "data": {
      "image/png": "[encoded data removed]",
      "text/plain": [
       "<Figure size 1080x432 with 1 Axes>"
      ]
     },
     "metadata": {
      "needs_background": "light"
     },
     "output_type": "display_data"
    }
   ],
   "source": [
    "#Using bar plt to visualize different age groups and diseases \n",
    "plot = age_dis.plot.bar(figsize=(15, 6),color= ['grey', 'blue', 'skyblue', 'k', 'royalblue',\n",
    "                                                 'purple', 'indigo', 'silver',\n",
    "                                                    'm', 'c'])\n",
    "plt.legend();"
   ]
  },
  {
   "cell_type": "markdown",
   "id": "51688faa",
   "metadata": {},
   "source": [
    "From the chart above, it depicts that the adult group from 35- 54 years have higher chances of contacting these diseases followed by Elder from 55 and above while young adult from 20- 35 mostly Teenager from 13 - 19 have lesser chances of contacting these disease. This deducts that Teengers have stronger immunity to resist the diseases from constant occurance. "
   ]
  },
  {
   "cell_type": "markdown",
   "id": "464a2250",
   "metadata": {},
   "source": [
    "### 11. Mortality rate against age groups "
   ]
  },
  {
   "cell_type": "code",
   "execution_count": 45,
   "id": "8f6a3e3b",
   "metadata": {},
   "outputs": [
    {
     "data": {
      "text/html": [
       "<div>\n",
       "<style scoped>\n",
       "    .dataframe tbody tr th:only-of-type {\n",
       "        vertical-align: middle;\n",
       "    }\n",
       "\n",
       "    .dataframe tbody tr th {\n",
       "        vertical-align: top;\n",
       "    }\n",
       "\n",
       "    .dataframe thead th {\n",
       "        text-align: right;\n",
       "    }\n",
       "</style>\n",
       "<table border=\"1\" class=\"dataframe\">\n",
       "  <thead>\n",
       "    <tr style=\"text-align: right;\">\n",
       "      <th>health_status</th>\n",
       "      <th>Alive</th>\n",
       "      <th>Dead</th>\n",
       "    </tr>\n",
       "    <tr>\n",
       "      <th>Age_group</th>\n",
       "      <th></th>\n",
       "      <th></th>\n",
       "    </tr>\n",
       "  </thead>\n",
       "  <tbody>\n",
       "    <tr>\n",
       "      <th>Adult</th>\n",
       "      <td>11831</td>\n",
       "      <td>11627</td>\n",
       "    </tr>\n",
       "    <tr>\n",
       "      <th>Baby</th>\n",
       "      <td>4245</td>\n",
       "      <td>4191</td>\n",
       "    </tr>\n",
       "    <tr>\n",
       "      <th>Child</th>\n",
       "      <td>6431</td>\n",
       "      <td>6522</td>\n",
       "    </tr>\n",
       "    <tr>\n",
       "      <th>Elder</th>\n",
       "      <td>11410</td>\n",
       "      <td>11556</td>\n",
       "    </tr>\n",
       "    <tr>\n",
       "      <th>Teenager</th>\n",
       "      <td>4163</td>\n",
       "      <td>4236</td>\n",
       "    </tr>\n",
       "    <tr>\n",
       "      <th>YoungAdult</th>\n",
       "      <td>8850</td>\n",
       "      <td>8745</td>\n",
       "    </tr>\n",
       "  </tbody>\n",
       "</table>\n",
       "</div>"
      ],
      "text/plain": [
       "health_status  Alive   Dead\n",
       "Age_group                  \n",
       "Adult          11831  11627\n",
       "Baby            4245   4191\n",
       "Child           6431   6522\n",
       "Elder          11410  11556\n",
       "Teenager        4163   4236\n",
       "YoungAdult      8850   8745"
      ]
     },
     "execution_count": 45,
     "metadata": {},
     "output_type": "execute_result"
    }
   ],
   "source": [
    "#Mortality rate against age groups \n",
    "age_m =data.groupby(\"Age_group\")[\"health_status\"].value_counts().unstack().fillna(0)\n",
    "age_m"
   ]
  },
  {
   "cell_type": "code",
   "execution_count": 46,
   "id": "beee2063",
   "metadata": {},
   "outputs": [
    {
     "data": {
      "text/plain": [
       "<AxesSubplot:xlabel='Age_group', ylabel='count'>"
      ]
     },
     "execution_count": 46,
     "metadata": {},
     "output_type": "execute_result"
    },
    {
     "data": {
      "image/png": "[encoded data removed]",
      "text/plain": [
       "<Figure size 720x504 with 1 Axes>"
      ]
     },
     "metadata": {
      "needs_background": "light"
     },
     "output_type": "display_data"
    }
   ],
   "source": [
    "#Visualizing the age grpups and mortality rate\n",
    "plt.figure(figsize =(10, 7))\n",
    "sns.countplot(x = 'Age_group', hue = 'health_status', data = data, palette = 'Blues_r')"
   ]
  },
  {
   "cell_type": "markdown",
   "id": "190eda33",
   "metadata": {},
   "source": [
    "Looking at the previous visualization we made on age groups against diseases, we saw that the diseases affected the adult group more that others, proceeding to this visualization here, you notice that Adult group are more prone to the effect of these diseases leading to higher mortaity rate on their age group"
   ]
  },
  {
   "cell_type": "markdown",
   "id": "e4d655cd",
   "metadata": {},
   "source": [
    "### 12. Using Multi-variate analysis to visualize which state and in what year do we have more death?"
   ]
  },
  {
   "cell_type": "code",
   "execution_count": 47,
   "id": "109aca95",
   "metadata": {},
   "outputs": [
    {
     "data": {
      "text/html": [
       "<div>\n",
       "<style scoped>\n",
       "    .dataframe tbody tr th:only-of-type {\n",
       "        vertical-align: middle;\n",
       "    }\n",
       "\n",
       "    .dataframe tbody tr th {\n",
       "        vertical-align: top;\n",
       "    }\n",
       "\n",
       "    .dataframe thead th {\n",
       "        text-align: right;\n",
       "    }\n",
       "</style>\n",
       "<table border=\"1\" class=\"dataframe\">\n",
       "  <thead>\n",
       "    <tr style=\"text-align: right;\">\n",
       "      <th></th>\n",
       "      <th>id</th>\n",
       "      <th>surname</th>\n",
       "      <th>firstname</th>\n",
       "      <th>middlename</th>\n",
       "      <th>gender</th>\n",
       "      <th>gender_male</th>\n",
       "      <th>gender_female</th>\n",
       "      <th>state</th>\n",
       "      <th>settlement</th>\n",
       "      <th>rural_settlement</th>\n",
       "      <th>...</th>\n",
       "      <th>NmA</th>\n",
       "      <th>NmC</th>\n",
       "      <th>NmW</th>\n",
       "      <th>health_status</th>\n",
       "      <th>alive</th>\n",
       "      <th>dead</th>\n",
       "      <th>report_outcome</th>\n",
       "      <th>unconfirmed</th>\n",
       "      <th>confirmed</th>\n",
       "      <th>null_serotype</th>\n",
       "    </tr>\n",
       "  </thead>\n",
       "  <tbody>\n",
       "  </tbody>\n",
       "</table>\n",
       "<p>0 rows × 40 columns</p>\n",
       "</div>"
      ],
      "text/plain": [
       "Empty DataFrame\n",
       "Columns: [id, surname, firstname, middlename, gender, gender_male, gender_female, state, settlement, rural_settlement, urban_settlement, report_date, report_year, age, age_str, date_of_birth, child_group, adult_group, disease, cholera, diarrhoea, measles, viral_haemmorrhaphic_fever, meningitis, ebola, marburg_virus, yellow_fever, rubella_mars, malaria, serotype, NmA, NmC, NmW, health_status, alive, dead, report_outcome, unconfirmed, confirmed, null_serotype]\n",
       "Index: []\n",
       "\n",
       "[0 rows x 40 columns]"
      ]
     },
     "execution_count": 47,
     "metadata": {},
     "output_type": "execute_result"
    }
   ],
   "source": [
    "#Subsetting for only dead\n",
    "dead_status = meni_data1[meni_data1['health_status']== 'dead']\n",
    "dead_status"
   ]
  },
  {
   "cell_type": "code",
   "execution_count": 48,
   "id": "b4e95d4f",
   "metadata": {},
   "outputs": [
    {
     "data": {
      "text/plain": [
       "state      report_year  health_status\n",
       "Niger      2013         Alive            167\n",
       "Akwa Ibom  2017         Alive            156\n",
       "Kano       2014         Alive            155\n",
       "Plateau    2012         Dead             155\n",
       "Abia       2009         Alive            154\n",
       "Plateau    2016         Dead             154\n",
       "Imo        2010         Alive            154\n",
       "Yobe       2018         Dead             153\n",
       "Niger      2010         Dead             153\n",
       "Kaduna     2012         Dead             152\n",
       "dtype: int64"
      ]
     },
     "execution_count": 48,
     "metadata": {},
     "output_type": "execute_result"
    }
   ],
   "source": [
    "#Selecting columns to perform a multi-variate analysis\n",
    "state_mortality = data[['state', 'report_year','health_status']].value_counts(ascending = False).head(10)\n",
    "state_mortality \n"
   ]
  },
  {
   "cell_type": "code",
   "execution_count": 49,
   "id": "6c1e69b7",
   "metadata": {},
   "outputs": [
    {
     "data": {
      "text/plain": [
       "<AxesSubplot:xlabel='state,report_year,health_status'>"
      ]
     },
     "execution_count": 49,
     "metadata": {},
     "output_type": "execute_result"
    },
    {
     "data": {
      "image/png": "[encoded data removed]",
      "text/plain": [
       "<Figure size 648x576 with 1 Axes>"
      ]
     },
     "metadata": {
      "needs_background": "light"
     },
     "output_type": "display_data"
    }
   ],
   "source": [
    "state_mortality.plot(x=\"health_status\", y=[\"report_year\", \"state\"], kind=\"bar\", figsize=(9, 8))\n",
    " "
   ]
  },
  {
   "cell_type": "markdown",
   "id": "2d0f013a",
   "metadata": {},
   "source": [
    "In 2010 in FCT, there were 447 recorded death cases which is slightly higher than Bayelsa and Taraba."
   ]
  },
  {
   "cell_type": "markdown",
   "id": "d98cb840",
   "metadata": {},
   "source": [
    "### 13. Disease more prevalant in different states."
   ]
  },
  {
   "cell_type": "code",
   "execution_count": 50,
   "id": "8a3992cd",
   "metadata": {},
   "outputs": [
    {
     "data": {
      "text/html": [
       "<div>\n",
       "<style scoped>\n",
       "    .dataframe tbody tr th:only-of-type {\n",
       "        vertical-align: middle;\n",
       "    }\n",
       "\n",
       "    .dataframe tbody tr th {\n",
       "        vertical-align: top;\n",
       "    }\n",
       "\n",
       "    .dataframe thead th {\n",
       "        text-align: right;\n",
       "    }\n",
       "</style>\n",
       "<table border=\"1\" class=\"dataframe\">\n",
       "  <thead>\n",
       "    <tr style=\"text-align: right;\">\n",
       "      <th></th>\n",
       "      <th></th>\n",
       "      <th>disease</th>\n",
       "    </tr>\n",
       "    <tr>\n",
       "      <th>state</th>\n",
       "      <th>disease</th>\n",
       "      <th></th>\n",
       "    </tr>\n",
       "  </thead>\n",
       "  <tbody>\n",
       "    <tr>\n",
       "      <th>Adamawa</th>\n",
       "      <th>Cholera</th>\n",
       "      <td>272</td>\n",
       "    </tr>\n",
       "    <tr>\n",
       "      <th>Kebbi</th>\n",
       "      <th>Rubella Mars</th>\n",
       "      <td>254</td>\n",
       "    </tr>\n",
       "    <tr>\n",
       "      <th>Enugu</th>\n",
       "      <th>Cholera</th>\n",
       "      <td>262</td>\n",
       "    </tr>\n",
       "    <tr>\n",
       "      <th>Gombe</th>\n",
       "      <th>Diarrhoea</th>\n",
       "      <td>251</td>\n",
       "    </tr>\n",
       "    <tr>\n",
       "      <th>Niger</th>\n",
       "      <th>Marburg Virus</th>\n",
       "      <td>247</td>\n",
       "    </tr>\n",
       "    <tr>\n",
       "      <th>Adamawa</th>\n",
       "      <th>Ebola</th>\n",
       "      <td>249</td>\n",
       "    </tr>\n",
       "    <tr>\n",
       "      <th>Enugu</th>\n",
       "      <th>Diarrhoea</th>\n",
       "      <td>264</td>\n",
       "    </tr>\n",
       "    <tr>\n",
       "      <th>Benue</th>\n",
       "      <th>Ebola</th>\n",
       "      <td>248</td>\n",
       "    </tr>\n",
       "    <tr>\n",
       "      <th>Federal Capital Territory</th>\n",
       "      <th>Meningitis</th>\n",
       "      <td>249</td>\n",
       "    </tr>\n",
       "    <tr>\n",
       "      <th>Adamawa</th>\n",
       "      <th>Diarrhoea</th>\n",
       "      <td>238</td>\n",
       "    </tr>\n",
       "    <tr>\n",
       "      <th>Abia</th>\n",
       "      <th>Malaria</th>\n",
       "      <td>265</td>\n",
       "    </tr>\n",
       "    <tr>\n",
       "      <th>Ondo</th>\n",
       "      <th>Ebola</th>\n",
       "      <td>270</td>\n",
       "    </tr>\n",
       "    <tr>\n",
       "      <th>Cross River</th>\n",
       "      <th>Rubella Mars</th>\n",
       "      <td>245</td>\n",
       "    </tr>\n",
       "    <tr>\n",
       "      <th>Federal Capital Territory</th>\n",
       "      <th>Diarrhoea</th>\n",
       "      <td>250</td>\n",
       "    </tr>\n",
       "    <tr>\n",
       "      <th>Niger</th>\n",
       "      <th>Measles</th>\n",
       "      <td>283</td>\n",
       "    </tr>\n",
       "    <tr>\n",
       "      <th>Anambra</th>\n",
       "      <th>Ebola</th>\n",
       "      <td>270</td>\n",
       "    </tr>\n",
       "    <tr>\n",
       "      <th>Ebonyi</th>\n",
       "      <th>Diarrhoea</th>\n",
       "      <td>238</td>\n",
       "    </tr>\n",
       "    <tr>\n",
       "      <th>Zamfara</th>\n",
       "      <th>Viral Haemmorrhaphic Fever</th>\n",
       "      <td>235</td>\n",
       "    </tr>\n",
       "    <tr>\n",
       "      <th>Abia</th>\n",
       "      <th>Rubella Mars</th>\n",
       "      <td>266</td>\n",
       "    </tr>\n",
       "    <tr>\n",
       "      <th>Rivers</th>\n",
       "      <th>Measles</th>\n",
       "      <td>251</td>\n",
       "    </tr>\n",
       "    <tr>\n",
       "      <th>Imo</th>\n",
       "      <th>Cholera</th>\n",
       "      <td>276</td>\n",
       "    </tr>\n",
       "    <tr>\n",
       "      <th>Benue</th>\n",
       "      <th>Meningitis</th>\n",
       "      <td>266</td>\n",
       "    </tr>\n",
       "    <tr>\n",
       "      <th>Oyo</th>\n",
       "      <th>Measles</th>\n",
       "      <td>266</td>\n",
       "    </tr>\n",
       "    <tr>\n",
       "      <th>Kano</th>\n",
       "      <th>Rubella Mars</th>\n",
       "      <td>226</td>\n",
       "    </tr>\n",
       "    <tr>\n",
       "      <th>Jigawa</th>\n",
       "      <th>Diarrhoea</th>\n",
       "      <td>266</td>\n",
       "    </tr>\n",
       "    <tr>\n",
       "      <th>Ebonyi</th>\n",
       "      <th>Rubella Mars</th>\n",
       "      <td>261</td>\n",
       "    </tr>\n",
       "    <tr>\n",
       "      <th>Nasarawa</th>\n",
       "      <th>Viral Haemmorrhaphic Fever</th>\n",
       "      <td>255</td>\n",
       "    </tr>\n",
       "    <tr>\n",
       "      <th>Plateau</th>\n",
       "      <th>Yellow Fever</th>\n",
       "      <td>255</td>\n",
       "    </tr>\n",
       "    <tr>\n",
       "      <th>Ebonyi</th>\n",
       "      <th>Cholera</th>\n",
       "      <td>231</td>\n",
       "    </tr>\n",
       "    <tr>\n",
       "      <th>Rivers</th>\n",
       "      <th>Cholera</th>\n",
       "      <td>280</td>\n",
       "    </tr>\n",
       "    <tr>\n",
       "      <th>Akwa Ibom</th>\n",
       "      <th>Malaria</th>\n",
       "      <td>264</td>\n",
       "    </tr>\n",
       "    <tr>\n",
       "      <th>Benue</th>\n",
       "      <th>Cholera</th>\n",
       "      <td>282</td>\n",
       "    </tr>\n",
       "    <tr>\n",
       "      <th>Taraba</th>\n",
       "      <th>Yellow Fever</th>\n",
       "      <td>251</td>\n",
       "    </tr>\n",
       "    <tr>\n",
       "      <th>Lagos</th>\n",
       "      <th>Meningitis</th>\n",
       "      <td>261</td>\n",
       "    </tr>\n",
       "    <tr>\n",
       "      <th>Zamfara</th>\n",
       "      <th>Yellow Fever</th>\n",
       "      <td>241</td>\n",
       "    </tr>\n",
       "    <tr>\n",
       "      <th>Imo</th>\n",
       "      <th>Ebola</th>\n",
       "      <td>274</td>\n",
       "    </tr>\n",
       "  </tbody>\n",
       "</table>\n",
       "</div>"
      ],
      "text/plain": [
       "                                                      disease\n",
       "state                     disease                            \n",
       "Adamawa                   Cholera                         272\n",
       "Kebbi                     Rubella Mars                    254\n",
       "Enugu                     Cholera                         262\n",
       "Gombe                     Diarrhoea                       251\n",
       "Niger                     Marburg Virus                   247\n",
       "Adamawa                   Ebola                           249\n",
       "Enugu                     Diarrhoea                       264\n",
       "Benue                     Ebola                           248\n",
       "Federal Capital Territory Meningitis                      249\n",
       "Adamawa                   Diarrhoea                       238\n",
       "Abia                      Malaria                         265\n",
       "Ondo                      Ebola                           270\n",
       "Cross River               Rubella Mars                    245\n",
       "Federal Capital Territory Diarrhoea                       250\n",
       "Niger                     Measles                         283\n",
       "Anambra                   Ebola                           270\n",
       "Ebonyi                    Diarrhoea                       238\n",
       "Zamfara                   Viral Haemmorrhaphic Fever      235\n",
       "Abia                      Rubella Mars                    266\n",
       "Rivers                    Measles                         251\n",
       "Imo                       Cholera                         276\n",
       "Benue                     Meningitis                      266\n",
       "Oyo                       Measles                         266\n",
       "Kano                      Rubella Mars                    226\n",
       "Jigawa                    Diarrhoea                       266\n",
       "Ebonyi                    Rubella Mars                    261\n",
       "Nasarawa                  Viral Haemmorrhaphic Fever      255\n",
       "Plateau                   Yellow Fever                    255\n",
       "Ebonyi                    Cholera                         231\n",
       "Rivers                    Cholera                         280\n",
       "Akwa Ibom                 Malaria                         264\n",
       "Benue                     Cholera                         282\n",
       "Taraba                    Yellow Fever                    251\n",
       "Lagos                     Meningitis                      261\n",
       "Zamfara                   Yellow Fever                    241\n",
       "Imo                       Ebola                           274"
      ]
     },
     "execution_count": 50,
     "metadata": {},
     "output_type": "execute_result"
    }
   ],
   "source": [
    "#Using group by to see the diseases in different states\n",
    "\n",
    "dis_state = data.groupby('state')['disease'].value_counts(ascending = False).to_frame()\n",
    "dis_state.sample(36).head(36)"
   ]
  },
  {
   "cell_type": "code",
   "execution_count": 51,
   "id": "b633ff93",
   "metadata": {},
   "outputs": [
    {
     "data": {
      "text/plain": [
       "<AxesSubplot:xlabel='state,disease'>"
      ]
     },
     "execution_count": 51,
     "metadata": {},
     "output_type": "execute_result"
    },
    {
     "data": {
      "image/png": "[encoded data removed]",
      "text/plain": [
       "<Figure size 648x576 with 1 Axes>"
      ]
     },
     "metadata": {
      "needs_background": "light"
     },
     "output_type": "display_data"
    }
   ],
   "source": [
    "#Visualizing the top 5 states that are more prevalant to diseases\n",
    "dis_state.sample(36).head(36).plot( kind=\"bar\", figsize=(9, 8))\n"
   ]
  },
  {
   "cell_type": "markdown",
   "id": "8376bc05",
   "metadata": {},
   "source": [
    "From the chart measles are more prevalant in Kwara state, viral haemmorhaphic fever and cholera are more in Niger state, Rubella Mars are more in Osun and viral haemmorhaphic fever are also more prevalant in Yobe state."
   ]
  },
  {
   "cell_type": "markdown",
   "id": "9618c44f",
   "metadata": {},
   "source": [
    "### 14. Which particular state is mostly affected based on malaria?"
   ]
  },
  {
   "cell_type": "code",
   "execution_count": 52,
   "id": "5206d231",
   "metadata": {},
   "outputs": [
    {
     "data": {
      "text/html": [
       "<div>\n",
       "<style scoped>\n",
       "    .dataframe tbody tr th:only-of-type {\n",
       "        vertical-align: middle;\n",
       "    }\n",
       "\n",
       "    .dataframe tbody tr th {\n",
       "        vertical-align: top;\n",
       "    }\n",
       "\n",
       "    .dataframe thead th {\n",
       "        text-align: right;\n",
       "    }\n",
       "</style>\n",
       "<table border=\"1\" class=\"dataframe\">\n",
       "  <thead>\n",
       "    <tr style=\"text-align: right;\">\n",
       "      <th></th>\n",
       "      <th>gender</th>\n",
       "      <th>gender_male</th>\n",
       "      <th>gender_female</th>\n",
       "      <th>state</th>\n",
       "      <th>settlement</th>\n",
       "      <th>rural_settlement</th>\n",
       "      <th>urban_settlement</th>\n",
       "      <th>report_date</th>\n",
       "      <th>report_year</th>\n",
       "      <th>age</th>\n",
       "      <th>child_group</th>\n",
       "      <th>adult_group</th>\n",
       "      <th>disease</th>\n",
       "      <th>health_status</th>\n",
       "      <th>report_outcome</th>\n",
       "      <th>unconfirmed</th>\n",
       "      <th>confirmed</th>\n",
       "      <th>Age_group</th>\n",
       "    </tr>\n",
       "  </thead>\n",
       "  <tbody>\n",
       "    <tr>\n",
       "      <th>19</th>\n",
       "      <td>Female</td>\n",
       "      <td>0</td>\n",
       "      <td>1</td>\n",
       "      <td>Adamawa</td>\n",
       "      <td>Rural</td>\n",
       "      <td>1</td>\n",
       "      <td>0</td>\n",
       "      <td>2017-09-23</td>\n",
       "      <td>2017</td>\n",
       "      <td>39</td>\n",
       "      <td>0</td>\n",
       "      <td>1</td>\n",
       "      <td>Malaria</td>\n",
       "      <td>Alive</td>\n",
       "      <td>Not Confirmed</td>\n",
       "      <td>1</td>\n",
       "      <td>0.0</td>\n",
       "      <td>Adult</td>\n",
       "    </tr>\n",
       "    <tr>\n",
       "      <th>21</th>\n",
       "      <td>Female</td>\n",
       "      <td>0</td>\n",
       "      <td>1</td>\n",
       "      <td>Rivers</td>\n",
       "      <td>Urban</td>\n",
       "      <td>0</td>\n",
       "      <td>1</td>\n",
       "      <td>2011-02-13</td>\n",
       "      <td>2011</td>\n",
       "      <td>14</td>\n",
       "      <td>1</td>\n",
       "      <td>0</td>\n",
       "      <td>Malaria</td>\n",
       "      <td>Alive</td>\n",
       "      <td>Confirmed</td>\n",
       "      <td>0</td>\n",
       "      <td>1.0</td>\n",
       "      <td>Teenager</td>\n",
       "    </tr>\n",
       "    <tr>\n",
       "      <th>37</th>\n",
       "      <td>Female</td>\n",
       "      <td>0</td>\n",
       "      <td>1</td>\n",
       "      <td>Kaduna</td>\n",
       "      <td>Rural</td>\n",
       "      <td>1</td>\n",
       "      <td>0</td>\n",
       "      <td>2010-04-02</td>\n",
       "      <td>2010</td>\n",
       "      <td>66</td>\n",
       "      <td>0</td>\n",
       "      <td>1</td>\n",
       "      <td>Malaria</td>\n",
       "      <td>Dead</td>\n",
       "      <td>Confirmed</td>\n",
       "      <td>0</td>\n",
       "      <td>1.0</td>\n",
       "      <td>Elder</td>\n",
       "    </tr>\n",
       "  </tbody>\n",
       "</table>\n",
       "</div>"
      ],
      "text/plain": [
       "    gender  gender_male  gender_female    state settlement  rural_settlement  \\\n",
       "19  Female            0              1  Adamawa      Rural                 1   \n",
       "21  Female            0              1   Rivers      Urban                 0   \n",
       "37  Female            0              1   Kaduna      Rural                 1   \n",
       "\n",
       "    urban_settlement report_date  report_year  age  child_group  adult_group  \\\n",
       "19                 0  2017-09-23         2017   39            0            1   \n",
       "21                 1  2011-02-13         2011   14            1            0   \n",
       "37                 0  2010-04-02         2010   66            0            1   \n",
       "\n",
       "    disease health_status report_outcome  unconfirmed  confirmed Age_group  \n",
       "19  Malaria         Alive  Not Confirmed            1        0.0     Adult  \n",
       "21  Malaria         Alive      Confirmed            0        1.0  Teenager  \n",
       "37  Malaria          Dead      Confirmed            0        1.0     Elder  "
      ]
     },
     "execution_count": 52,
     "metadata": {},
     "output_type": "execute_result"
    }
   ],
   "source": [
    "# subsetting to get dataset with malaria disease only\n",
    "malaria = data[data.disease == 'Malaria']\n",
    "malaria.head(3)"
   ]
  },
  {
   "cell_type": "code",
   "execution_count": 53,
   "id": "c4b9b6b7",
   "metadata": {},
   "outputs": [
    {
     "data": {
      "text/html": [
       "<div>\n",
       "<style scoped>\n",
       "    .dataframe tbody tr th:only-of-type {\n",
       "        vertical-align: middle;\n",
       "    }\n",
       "\n",
       "    .dataframe tbody tr th {\n",
       "        vertical-align: top;\n",
       "    }\n",
       "\n",
       "    .dataframe thead th {\n",
       "        text-align: right;\n",
       "    }\n",
       "</style>\n",
       "<table border=\"1\" class=\"dataframe\">\n",
       "  <thead>\n",
       "    <tr style=\"text-align: right;\">\n",
       "      <th></th>\n",
       "      <th></th>\n",
       "      <th>disease count</th>\n",
       "    </tr>\n",
       "    <tr>\n",
       "      <th>state</th>\n",
       "      <th>disease</th>\n",
       "      <th></th>\n",
       "    </tr>\n",
       "  </thead>\n",
       "  <tbody>\n",
       "    <tr>\n",
       "      <th>Kwara</th>\n",
       "      <th>Malaria</th>\n",
       "      <td>301</td>\n",
       "    </tr>\n",
       "    <tr>\n",
       "      <th>Jigawa</th>\n",
       "      <th>Malaria</th>\n",
       "      <td>292</td>\n",
       "    </tr>\n",
       "    <tr>\n",
       "      <th>Ogun</th>\n",
       "      <th>Malaria</th>\n",
       "      <td>273</td>\n",
       "    </tr>\n",
       "    <tr>\n",
       "      <th>Edo</th>\n",
       "      <th>Malaria</th>\n",
       "      <td>272</td>\n",
       "    </tr>\n",
       "    <tr>\n",
       "      <th>Benue</th>\n",
       "      <th>Malaria</th>\n",
       "      <td>270</td>\n",
       "    </tr>\n",
       "  </tbody>\n",
       "</table>\n",
       "</div>"
      ],
      "text/plain": [
       "                disease count\n",
       "state  disease               \n",
       "Kwara  Malaria            301\n",
       "Jigawa Malaria            292\n",
       "Ogun   Malaria            273\n",
       "Edo    Malaria            272\n",
       "Benue  Malaria            270"
      ]
     },
     "execution_count": 53,
     "metadata": {},
     "output_type": "execute_result"
    }
   ],
   "source": [
    "states_malaria = malaria.groupby('state')['disease'].value_counts().sort_values(ascending = False).head(5)\n",
    "states_malaria = pd.DataFrame(states_malaria)\n",
    "states_malaria.columns = ['disease count']\n",
    "states_malaria"
   ]
  },
  {
   "cell_type": "code",
   "execution_count": 54,
   "id": "a80c4804",
   "metadata": {},
   "outputs": [
    {
     "data": {
      "image/png": "[encoded data removed]",
      "text/plain": [
       "<Figure size 576x432 with 1 Axes>"
      ]
     },
     "metadata": {
      "needs_background": "light"
     },
     "output_type": "display_data"
    }
   ],
   "source": [
    "plot = states_malaria.plot.barh(figsize =(8,6),color='royalblue')\n",
    "plt.xlabel('Counts of disease cases')\n",
    "#plt.ylabel('state')\n",
    "plt.title('top 10 States with highest Malaria cases')\n",
    "plt.show();\n",
    "\n"
   ]
  },
  {
   "cell_type": "markdown",
   "id": "c60fa659",
   "metadata": {},
   "source": [
    "From the chart above, there's a high record of malaria cases in Kano and Kwara states(833 cases recorded). \n",
    "\n",
    "Recommendation: As malaria was the most common disease in kwara and kano, it's recommend that government should;\n",
    "\n",
    "Educate the masses and parents on malaria, it's danger and when to seek medical assistance.\n",
    "\n",
    "A health campaign should be held to educate them on the proper use of mosquito net, adequate sanitation, proper human waste disposal. Government should create a sewage channel to avoid stagnant water in the states. "
   ]
  },
  {
   "cell_type": "markdown",
   "id": "ac2b0878",
   "metadata": {},
   "source": [
    "### 15. Using multi_variate analysis to check state with the highest disease outbreak, Health status and year"
   ]
  },
  {
   "cell_type": "code",
   "execution_count": 55,
   "id": "2e7467e4",
   "metadata": {},
   "outputs": [
    {
     "data": {
      "text/plain": [
       "state    disease       report_year  health_status\n",
       "Abia     Cholera       2009         Alive            14\n",
       "                                    Dead             13\n",
       "                       2010         Dead             16\n",
       "                                    Alive            11\n",
       "                       2011         Dead             17\n",
       "                                                     ..\n",
       "Zamfara  Yellow Fever  2016         Dead             10\n",
       "                       2017         Alive            13\n",
       "                                    Dead             10\n",
       "                       2018         Alive            17\n",
       "                                    Dead             13\n",
       "Name: health_status, Length: 7400, dtype: int64"
      ]
     },
     "execution_count": 55,
     "metadata": {},
     "output_type": "execute_result"
    }
   ],
   "source": [
    "#Using multi_variate analysis\n",
    "distate_healthyear = data.groupby(['state', 'disease', 'report_year'])['health_status'].value_counts()\n",
    "distate_healthyear"
   ]
  },
  {
   "cell_type": "code",
   "execution_count": 56,
   "id": "2cf5d750",
   "metadata": {},
   "outputs": [
    {
     "data": {
      "text/plain": [
       "<AxesSubplot:ylabel='state,disease,report_year,health_status'>"
      ]
     },
     "execution_count": 56,
     "metadata": {},
     "output_type": "execute_result"
    },
    {
     "data": {
      "image/png": "[encoded data removed]",
      "text/plain": [
       "<Figure size 864x576 with 1 Axes>"
      ]
     },
     "metadata": {
      "needs_background": "light"
     },
     "output_type": "display_data"
    }
   ],
   "source": [
    "distate_healthyear.head().plot(kind = 'barh', figsize = (12, 8))"
   ]
  },
  {
   "cell_type": "code",
   "execution_count": 57,
   "id": "d1c53262",
   "metadata": {},
   "outputs": [
    {
     "data": {
      "text/html": [
       "<div>\n",
       "<style scoped>\n",
       "    .dataframe tbody tr th:only-of-type {\n",
       "        vertical-align: middle;\n",
       "    }\n",
       "\n",
       "    .dataframe tbody tr th {\n",
       "        vertical-align: top;\n",
       "    }\n",
       "\n",
       "    .dataframe thead th {\n",
       "        text-align: right;\n",
       "    }\n",
       "</style>\n",
       "<table border=\"1\" class=\"dataframe\">\n",
       "  <thead>\n",
       "    <tr style=\"text-align: right;\">\n",
       "      <th></th>\n",
       "      <th>gender</th>\n",
       "      <th>gender_male</th>\n",
       "      <th>gender_female</th>\n",
       "      <th>state</th>\n",
       "      <th>settlement</th>\n",
       "      <th>rural_settlement</th>\n",
       "      <th>urban_settlement</th>\n",
       "      <th>report_date</th>\n",
       "      <th>report_year</th>\n",
       "      <th>age</th>\n",
       "      <th>child_group</th>\n",
       "      <th>adult_group</th>\n",
       "      <th>disease</th>\n",
       "      <th>health_status</th>\n",
       "      <th>report_outcome</th>\n",
       "      <th>unconfirmed</th>\n",
       "      <th>confirmed</th>\n",
       "      <th>Age_group</th>\n",
       "    </tr>\n",
       "  </thead>\n",
       "  <tbody>\n",
       "    <tr>\n",
       "      <th>0</th>\n",
       "      <td>Female</td>\n",
       "      <td>0</td>\n",
       "      <td>1</td>\n",
       "      <td>Rivers</td>\n",
       "      <td>Rural</td>\n",
       "      <td>1</td>\n",
       "      <td>0</td>\n",
       "      <td>2018-05-15</td>\n",
       "      <td>2018</td>\n",
       "      <td>32</td>\n",
       "      <td>0</td>\n",
       "      <td>1</td>\n",
       "      <td>Cholera</td>\n",
       "      <td>Alive</td>\n",
       "      <td>confirmed</td>\n",
       "      <td>0</td>\n",
       "      <td>1.0</td>\n",
       "      <td>YoungAdult</td>\n",
       "    </tr>\n",
       "    <tr>\n",
       "      <th>1</th>\n",
       "      <td>Male</td>\n",
       "      <td>1</td>\n",
       "      <td>0</td>\n",
       "      <td>Ebonyi</td>\n",
       "      <td>Rural</td>\n",
       "      <td>1</td>\n",
       "      <td>0</td>\n",
       "      <td>2017-02-28</td>\n",
       "      <td>2017</td>\n",
       "      <td>32</td>\n",
       "      <td>0</td>\n",
       "      <td>1</td>\n",
       "      <td>Marburg Virus</td>\n",
       "      <td>Alive</td>\n",
       "      <td>Confirmed</td>\n",
       "      <td>1</td>\n",
       "      <td>0.0</td>\n",
       "      <td>YoungAdult</td>\n",
       "    </tr>\n",
       "    <tr>\n",
       "      <th>2</th>\n",
       "      <td>Female</td>\n",
       "      <td>0</td>\n",
       "      <td>1</td>\n",
       "      <td>Ogun</td>\n",
       "      <td>Urban</td>\n",
       "      <td>0</td>\n",
       "      <td>1</td>\n",
       "      <td>2012-03-02</td>\n",
       "      <td>2012</td>\n",
       "      <td>24</td>\n",
       "      <td>0</td>\n",
       "      <td>1</td>\n",
       "      <td>Marburg Virus</td>\n",
       "      <td>Dead</td>\n",
       "      <td>Not Confirmed</td>\n",
       "      <td>1</td>\n",
       "      <td>0.0</td>\n",
       "      <td>YoungAdult</td>\n",
       "    </tr>\n",
       "    <tr>\n",
       "      <th>3</th>\n",
       "      <td>Female</td>\n",
       "      <td>0</td>\n",
       "      <td>1</td>\n",
       "      <td>Ondo</td>\n",
       "      <td>Rural</td>\n",
       "      <td>1</td>\n",
       "      <td>0</td>\n",
       "      <td>2010-05-21</td>\n",
       "      <td>2010</td>\n",
       "      <td>63</td>\n",
       "      <td>0</td>\n",
       "      <td>1</td>\n",
       "      <td>Measles</td>\n",
       "      <td>Alive</td>\n",
       "      <td>Not Confirmed</td>\n",
       "      <td>1</td>\n",
       "      <td>0.0</td>\n",
       "      <td>Elder</td>\n",
       "    </tr>\n",
       "    <tr>\n",
       "      <th>4</th>\n",
       "      <td>Male</td>\n",
       "      <td>1</td>\n",
       "      <td>0</td>\n",
       "      <td>Oyo</td>\n",
       "      <td>Urban</td>\n",
       "      <td>0</td>\n",
       "      <td>1</td>\n",
       "      <td>2017-08-28</td>\n",
       "      <td>2017</td>\n",
       "      <td>9</td>\n",
       "      <td>1</td>\n",
       "      <td>0</td>\n",
       "      <td>Rubella Mars</td>\n",
       "      <td>Alive</td>\n",
       "      <td>Confirmed</td>\n",
       "      <td>1</td>\n",
       "      <td>0.0</td>\n",
       "      <td>Child</td>\n",
       "    </tr>\n",
       "  </tbody>\n",
       "</table>\n",
       "</div>"
      ],
      "text/plain": [
       "   gender  gender_male  gender_female   state settlement  rural_settlement  \\\n",
       "0  Female            0              1  Rivers      Rural                 1   \n",
       "1    Male            1              0  Ebonyi      Rural                 1   \n",
       "2  Female            0              1    Ogun      Urban                 0   \n",
       "3  Female            0              1    Ondo      Rural                 1   \n",
       "4    Male            1              0     Oyo      Urban                 0   \n",
       "\n",
       "   urban_settlement report_date  report_year  age  child_group  adult_group  \\\n",
       "0                 0  2018-05-15         2018   32            0            1   \n",
       "1                 0  2017-02-28         2017   32            0            1   \n",
       "2                 1  2012-03-02         2012   24            0            1   \n",
       "3                 0  2010-05-21         2010   63            0            1   \n",
       "4                 1  2017-08-28         2017    9            1            0   \n",
       "\n",
       "         disease health_status report_outcome  unconfirmed  confirmed  \\\n",
       "0        Cholera         Alive      confirmed            0        1.0   \n",
       "1  Marburg Virus         Alive      Confirmed            1        0.0   \n",
       "2  Marburg Virus          Dead  Not Confirmed            1        0.0   \n",
       "3        Measles         Alive  Not Confirmed            1        0.0   \n",
       "4   Rubella Mars         Alive      Confirmed            1        0.0   \n",
       "\n",
       "    Age_group  \n",
       "0  YoungAdult  \n",
       "1  YoungAdult  \n",
       "2  YoungAdult  \n",
       "3       Elder  \n",
       "4       Child  "
      ]
     },
     "execution_count": 57,
     "metadata": {},
     "output_type": "execute_result"
    }
   ],
   "source": [
    "data['Age_group']= ['Baby'if i <5 else'Child'if i < 13 else \"Teenager\" if i < 20 else 'YoungAdult' if i< 35 else 'Adult' if i< 55 else 'Elder'for i in data.age]\n",
    "data.head()"
   ]
  },
  {
   "cell_type": "code",
   "execution_count": 58,
   "id": "800e9188",
   "metadata": {},
   "outputs": [
    {
     "data": {
      "image/png": "[encoded data removed]",
      "text/plain": [
       "<Figure size 864x720 with 2 Axes>"
      ]
     },
     "metadata": {
      "needs_background": "light"
     },
     "output_type": "display_data"
    }
   ],
   "source": [
    "plt.figure(figsize=(12, 10))\n",
    "sns.heatmap(corr_dis, annot = True,linewidths=.5, fmt= '.1f')\n",
    "plt.show()"
   ]
  },
  {
   "cell_type": "markdown",
   "id": "b3b26b30",
   "metadata": {},
   "source": [
    "### MODELING OUR DATA"
   ]
  },
  {
   "cell_type": "code",
   "execution_count": 59,
   "id": "cfa89945",
   "metadata": {},
   "outputs": [],
   "source": [
    "from sklearn.preprocessing import LabelEncoder\n",
    "le = LabelEncoder()\n",
    "#using label encoder to convert category columns to numerical values \n",
    "data.report_outcome = le.fit_transform(data.report_outcome.values)\n",
    "data.Age_group = le.fit_transform(data.Age_group.values)\n",
    "data.disease = le.fit_transform(data.disease.values)"
   ]
  },
  {
   "cell_type": "code",
   "execution_count": 60,
   "id": "03ac0e5b",
   "metadata": {},
   "outputs": [
    {
     "data": {
      "text/html": [
       "<div>\n",
       "<style scoped>\n",
       "    .dataframe tbody tr th:only-of-type {\n",
       "        vertical-align: middle;\n",
       "    }\n",
       "\n",
       "    .dataframe tbody tr th {\n",
       "        vertical-align: top;\n",
       "    }\n",
       "\n",
       "    .dataframe thead th {\n",
       "        text-align: right;\n",
       "    }\n",
       "</style>\n",
       "<table border=\"1\" class=\"dataframe\">\n",
       "  <thead>\n",
       "    <tr style=\"text-align: right;\">\n",
       "      <th></th>\n",
       "      <th>gender</th>\n",
       "      <th>gender_male</th>\n",
       "      <th>gender_female</th>\n",
       "      <th>state</th>\n",
       "      <th>settlement</th>\n",
       "      <th>rural_settlement</th>\n",
       "      <th>urban_settlement</th>\n",
       "      <th>report_date</th>\n",
       "      <th>report_year</th>\n",
       "      <th>age</th>\n",
       "      <th>child_group</th>\n",
       "      <th>adult_group</th>\n",
       "      <th>disease</th>\n",
       "      <th>health_status</th>\n",
       "      <th>report_outcome</th>\n",
       "      <th>unconfirmed</th>\n",
       "      <th>confirmed</th>\n",
       "      <th>Age_group</th>\n",
       "    </tr>\n",
       "  </thead>\n",
       "  <tbody>\n",
       "    <tr>\n",
       "      <th>0</th>\n",
       "      <td>Female</td>\n",
       "      <td>0</td>\n",
       "      <td>1</td>\n",
       "      <td>Rivers</td>\n",
       "      <td>Rural</td>\n",
       "      <td>1</td>\n",
       "      <td>0</td>\n",
       "      <td>2018-05-15</td>\n",
       "      <td>2018</td>\n",
       "      <td>32</td>\n",
       "      <td>0</td>\n",
       "      <td>1</td>\n",
       "      <td>0</td>\n",
       "      <td>Alive</td>\n",
       "      <td>2</td>\n",
       "      <td>0</td>\n",
       "      <td>1.0</td>\n",
       "      <td>5</td>\n",
       "    </tr>\n",
       "    <tr>\n",
       "      <th>1</th>\n",
       "      <td>Male</td>\n",
       "      <td>1</td>\n",
       "      <td>0</td>\n",
       "      <td>Ebonyi</td>\n",
       "      <td>Rural</td>\n",
       "      <td>1</td>\n",
       "      <td>0</td>\n",
       "      <td>2017-02-28</td>\n",
       "      <td>2017</td>\n",
       "      <td>32</td>\n",
       "      <td>0</td>\n",
       "      <td>1</td>\n",
       "      <td>4</td>\n",
       "      <td>Alive</td>\n",
       "      <td>0</td>\n",
       "      <td>1</td>\n",
       "      <td>0.0</td>\n",
       "      <td>5</td>\n",
       "    </tr>\n",
       "    <tr>\n",
       "      <th>2</th>\n",
       "      <td>Female</td>\n",
       "      <td>0</td>\n",
       "      <td>1</td>\n",
       "      <td>Ogun</td>\n",
       "      <td>Urban</td>\n",
       "      <td>0</td>\n",
       "      <td>1</td>\n",
       "      <td>2012-03-02</td>\n",
       "      <td>2012</td>\n",
       "      <td>24</td>\n",
       "      <td>0</td>\n",
       "      <td>1</td>\n",
       "      <td>4</td>\n",
       "      <td>Dead</td>\n",
       "      <td>1</td>\n",
       "      <td>1</td>\n",
       "      <td>0.0</td>\n",
       "      <td>5</td>\n",
       "    </tr>\n",
       "  </tbody>\n",
       "</table>\n",
       "</div>"
      ],
      "text/plain": [
       "   gender  gender_male  gender_female   state settlement  rural_settlement  \\\n",
       "0  Female            0              1  Rivers      Rural                 1   \n",
       "1    Male            1              0  Ebonyi      Rural                 1   \n",
       "2  Female            0              1    Ogun      Urban                 0   \n",
       "\n",
       "   urban_settlement report_date  report_year  age  child_group  adult_group  \\\n",
       "0                 0  2018-05-15         2018   32            0            1   \n",
       "1                 0  2017-02-28         2017   32            0            1   \n",
       "2                 1  2012-03-02         2012   24            0            1   \n",
       "\n",
       "   disease health_status  report_outcome  unconfirmed  confirmed  Age_group  \n",
       "0        0         Alive               2            0        1.0          5  \n",
       "1        4         Alive               0            1        0.0          5  \n",
       "2        4          Dead               1            1        0.0          5  "
      ]
     },
     "execution_count": 60,
     "metadata": {},
     "output_type": "execute_result"
    }
   ],
   "source": [
    "data.head(3)"
   ]
  },
  {
   "cell_type": "code",
   "execution_count": 61,
   "id": "459d9fb0",
   "metadata": {},
   "outputs": [
    {
     "data": {
      "text/html": [
       "<div>\n",
       "<style scoped>\n",
       "    .dataframe tbody tr th:only-of-type {\n",
       "        vertical-align: middle;\n",
       "    }\n",
       "\n",
       "    .dataframe tbody tr th {\n",
       "        vertical-align: top;\n",
       "    }\n",
       "\n",
       "    .dataframe thead th {\n",
       "        text-align: right;\n",
       "    }\n",
       "</style>\n",
       "<table border=\"1\" class=\"dataframe\">\n",
       "  <thead>\n",
       "    <tr style=\"text-align: right;\">\n",
       "      <th></th>\n",
       "      <th>gender_male</th>\n",
       "      <th>gender_female</th>\n",
       "      <th>rural_settlement</th>\n",
       "      <th>urban_settlement</th>\n",
       "      <th>Age_group</th>\n",
       "      <th>disease</th>\n",
       "    </tr>\n",
       "  </thead>\n",
       "  <tbody>\n",
       "    <tr>\n",
       "      <th>0</th>\n",
       "      <td>0</td>\n",
       "      <td>1</td>\n",
       "      <td>1</td>\n",
       "      <td>0</td>\n",
       "      <td>5</td>\n",
       "      <td>0</td>\n",
       "    </tr>\n",
       "    <tr>\n",
       "      <th>1</th>\n",
       "      <td>1</td>\n",
       "      <td>0</td>\n",
       "      <td>1</td>\n",
       "      <td>0</td>\n",
       "      <td>5</td>\n",
       "      <td>4</td>\n",
       "    </tr>\n",
       "    <tr>\n",
       "      <th>2</th>\n",
       "      <td>0</td>\n",
       "      <td>1</td>\n",
       "      <td>0</td>\n",
       "      <td>1</td>\n",
       "      <td>5</td>\n",
       "      <td>4</td>\n",
       "    </tr>\n",
       "  </tbody>\n",
       "</table>\n",
       "</div>"
      ],
      "text/plain": [
       "   gender_male  gender_female  rural_settlement  urban_settlement  Age_group  \\\n",
       "0            0              1                 1                 0          5   \n",
       "1            1              0                 1                 0          5   \n",
       "2            0              1                 0                 1          5   \n",
       "\n",
       "   disease  \n",
       "0        0  \n",
       "1        4  \n",
       "2        4  "
      ]
     },
     "execution_count": 61,
     "metadata": {},
     "output_type": "execute_result"
    }
   ],
   "source": [
    "#Extracting the independent variable\n",
    "x=data[['gender_male', 'gender_female', 'rural_settlement', 'urban_settlement', 'Age_group', 'disease']]\n",
    "x.head(3)"
   ]
  },
  {
   "cell_type": "code",
   "execution_count": 62,
   "id": "41e038bd",
   "metadata": {},
   "outputs": [
    {
     "data": {
      "text/html": [
       "<div>\n",
       "<style scoped>\n",
       "    .dataframe tbody tr th:only-of-type {\n",
       "        vertical-align: middle;\n",
       "    }\n",
       "\n",
       "    .dataframe tbody tr th {\n",
       "        vertical-align: top;\n",
       "    }\n",
       "\n",
       "    .dataframe thead th {\n",
       "        text-align: right;\n",
       "    }\n",
       "</style>\n",
       "<table border=\"1\" class=\"dataframe\">\n",
       "  <thead>\n",
       "    <tr style=\"text-align: right;\">\n",
       "      <th></th>\n",
       "      <th>id</th>\n",
       "      <th>surname</th>\n",
       "      <th>firstname</th>\n",
       "      <th>middlename</th>\n",
       "      <th>gender</th>\n",
       "      <th>gender_male</th>\n",
       "      <th>gender_female</th>\n",
       "      <th>state</th>\n",
       "      <th>settlement</th>\n",
       "      <th>rural_settlement</th>\n",
       "      <th>...</th>\n",
       "      <th>NmA</th>\n",
       "      <th>NmC</th>\n",
       "      <th>NmW</th>\n",
       "      <th>health_status</th>\n",
       "      <th>alive</th>\n",
       "      <th>dead</th>\n",
       "      <th>report_outcome</th>\n",
       "      <th>unconfirmed</th>\n",
       "      <th>confirmed</th>\n",
       "      <th>null_serotype</th>\n",
       "    </tr>\n",
       "  </thead>\n",
       "  <tbody>\n",
       "    <tr>\n",
       "      <th>0</th>\n",
       "      <td>1</td>\n",
       "      <td>Solade</td>\n",
       "      <td>Grace</td>\n",
       "      <td>Solape</td>\n",
       "      <td>Female</td>\n",
       "      <td>0</td>\n",
       "      <td>1</td>\n",
       "      <td>Rivers</td>\n",
       "      <td>Rural</td>\n",
       "      <td>1</td>\n",
       "      <td>...</td>\n",
       "      <td>0</td>\n",
       "      <td>0</td>\n",
       "      <td>0</td>\n",
       "      <td>alive</td>\n",
       "      <td>1</td>\n",
       "      <td>0</td>\n",
       "      <td>confirmed</td>\n",
       "      <td>0</td>\n",
       "      <td>1.0</td>\n",
       "      <td>1.0</td>\n",
       "    </tr>\n",
       "    <tr>\n",
       "      <th>1</th>\n",
       "      <td>2</td>\n",
       "      <td>Eneche</td>\n",
       "      <td>Kure</td>\n",
       "      <td>Balogun</td>\n",
       "      <td>Male</td>\n",
       "      <td>1</td>\n",
       "      <td>0</td>\n",
       "      <td>Ebonyi</td>\n",
       "      <td>Rural</td>\n",
       "      <td>1</td>\n",
       "      <td>...</td>\n",
       "      <td>0</td>\n",
       "      <td>0</td>\n",
       "      <td>1</td>\n",
       "      <td>Alive</td>\n",
       "      <td>1</td>\n",
       "      <td>0</td>\n",
       "      <td>Confirmed</td>\n",
       "      <td>1</td>\n",
       "      <td>0.0</td>\n",
       "      <td>1.0</td>\n",
       "    </tr>\n",
       "    <tr>\n",
       "      <th>2</th>\n",
       "      <td>3</td>\n",
       "      <td>Sanusi</td>\n",
       "      <td>Adaugo</td>\n",
       "      <td>Katerine</td>\n",
       "      <td>Female</td>\n",
       "      <td>0</td>\n",
       "      <td>1</td>\n",
       "      <td>Ogun</td>\n",
       "      <td>Urban</td>\n",
       "      <td>0</td>\n",
       "      <td>...</td>\n",
       "      <td>0</td>\n",
       "      <td>0</td>\n",
       "      <td>1</td>\n",
       "      <td>Dead</td>\n",
       "      <td>0</td>\n",
       "      <td>1</td>\n",
       "      <td>Not Confirmed</td>\n",
       "      <td>1</td>\n",
       "      <td>0.0</td>\n",
       "      <td>1.0</td>\n",
       "    </tr>\n",
       "  </tbody>\n",
       "</table>\n",
       "<p>3 rows × 40 columns</p>\n",
       "</div>"
      ],
      "text/plain": [
       "   id surname firstname middlename  gender  gender_male  gender_female  \\\n",
       "0   1  Solade     Grace     Solape  Female            0              1   \n",
       "1   2  Eneche      Kure    Balogun    Male            1              0   \n",
       "2   3  Sanusi    Adaugo   Katerine  Female            0              1   \n",
       "\n",
       "    state settlement  rural_settlement  ...  NmA NmC  NmW  health_status  \\\n",
       "0  Rivers      Rural                 1  ...    0   0    0          alive   \n",
       "1  Ebonyi      Rural                 1  ...    0   0    1          Alive   \n",
       "2    Ogun      Urban                 0  ...    0   0    1           Dead   \n",
       "\n",
       "  alive dead  report_outcome  unconfirmed confirmed  null_serotype  \n",
       "0     1    0       confirmed            0       1.0            1.0  \n",
       "1     1    0       Confirmed            1       0.0            1.0  \n",
       "2     0    1   Not Confirmed            1       0.0            1.0  \n",
       "\n",
       "[3 rows x 40 columns]"
      ]
     },
     "execution_count": 62,
     "metadata": {},
     "output_type": "execute_result"
    }
   ],
   "source": [
    "meni_data1.head(3)"
   ]
  },
  {
   "cell_type": "code",
   "execution_count": 63,
   "id": "453ff519",
   "metadata": {},
   "outputs": [
    {
     "data": {
      "text/html": [
       "<div>\n",
       "<style scoped>\n",
       "    .dataframe tbody tr th:only-of-type {\n",
       "        vertical-align: middle;\n",
       "    }\n",
       "\n",
       "    .dataframe tbody tr th {\n",
       "        vertical-align: top;\n",
       "    }\n",
       "\n",
       "    .dataframe thead th {\n",
       "        text-align: right;\n",
       "    }\n",
       "</style>\n",
       "<table border=\"1\" class=\"dataframe\">\n",
       "  <thead>\n",
       "    <tr style=\"text-align: right;\">\n",
       "      <th></th>\n",
       "      <th>confirmed</th>\n",
       "    </tr>\n",
       "  </thead>\n",
       "  <tbody>\n",
       "    <tr>\n",
       "      <th>0</th>\n",
       "      <td>1.0</td>\n",
       "    </tr>\n",
       "    <tr>\n",
       "      <th>1</th>\n",
       "      <td>0.0</td>\n",
       "    </tr>\n",
       "    <tr>\n",
       "      <th>2</th>\n",
       "      <td>0.0</td>\n",
       "    </tr>\n",
       "    <tr>\n",
       "      <th>3</th>\n",
       "      <td>0.0</td>\n",
       "    </tr>\n",
       "    <tr>\n",
       "      <th>4</th>\n",
       "      <td>0.0</td>\n",
       "    </tr>\n",
       "    <tr>\n",
       "      <th>...</th>\n",
       "      <td>...</td>\n",
       "    </tr>\n",
       "    <tr>\n",
       "      <th>93802</th>\n",
       "      <td>0.0</td>\n",
       "    </tr>\n",
       "    <tr>\n",
       "      <th>93803</th>\n",
       "      <td>0.0</td>\n",
       "    </tr>\n",
       "    <tr>\n",
       "      <th>93804</th>\n",
       "      <td>0.0</td>\n",
       "    </tr>\n",
       "    <tr>\n",
       "      <th>93805</th>\n",
       "      <td>1.0</td>\n",
       "    </tr>\n",
       "    <tr>\n",
       "      <th>93806</th>\n",
       "      <td>1.0</td>\n",
       "    </tr>\n",
       "  </tbody>\n",
       "</table>\n",
       "<p>93807 rows × 1 columns</p>\n",
       "</div>"
      ],
      "text/plain": [
       "       confirmed\n",
       "0            1.0\n",
       "1            0.0\n",
       "2            0.0\n",
       "3            0.0\n",
       "4            0.0\n",
       "...          ...\n",
       "93802        0.0\n",
       "93803        0.0\n",
       "93804        0.0\n",
       "93805        1.0\n",
       "93806        1.0\n",
       "\n",
       "[93807 rows x 1 columns]"
      ]
     },
     "execution_count": 63,
     "metadata": {},
     "output_type": "execute_result"
    }
   ],
   "source": [
    "#Extracting the dependant variable\n",
    "data[\"confirmed\"] = meni_data1[\"confirmed\"].fillna(1)\n",
    "y = data[[\"confirmed\"]]\n",
    "y.fillna(1)"
   ]
  },
  {
   "cell_type": "code",
   "execution_count": 64,
   "id": "5b0f3121",
   "metadata": {},
   "outputs": [
    {
     "data": {
      "text/html": [
       "<div>\n",
       "<style scoped>\n",
       "    .dataframe tbody tr th:only-of-type {\n",
       "        vertical-align: middle;\n",
       "    }\n",
       "\n",
       "    .dataframe tbody tr th {\n",
       "        vertical-align: top;\n",
       "    }\n",
       "\n",
       "    .dataframe thead th {\n",
       "        text-align: right;\n",
       "    }\n",
       "</style>\n",
       "<table border=\"1\" class=\"dataframe\">\n",
       "  <thead>\n",
       "    <tr style=\"text-align: right;\">\n",
       "      <th></th>\n",
       "      <th>gender</th>\n",
       "      <th>gender_male</th>\n",
       "      <th>gender_female</th>\n",
       "      <th>state</th>\n",
       "      <th>settlement</th>\n",
       "      <th>rural_settlement</th>\n",
       "      <th>urban_settlement</th>\n",
       "      <th>report_date</th>\n",
       "      <th>report_year</th>\n",
       "      <th>age</th>\n",
       "      <th>child_group</th>\n",
       "      <th>adult_group</th>\n",
       "      <th>disease</th>\n",
       "      <th>health_status</th>\n",
       "      <th>report_outcome</th>\n",
       "      <th>unconfirmed</th>\n",
       "      <th>confirmed</th>\n",
       "      <th>Age_group</th>\n",
       "    </tr>\n",
       "  </thead>\n",
       "  <tbody>\n",
       "    <tr>\n",
       "      <th>0</th>\n",
       "      <td>Female</td>\n",
       "      <td>0</td>\n",
       "      <td>1</td>\n",
       "      <td>Rivers</td>\n",
       "      <td>Rural</td>\n",
       "      <td>1</td>\n",
       "      <td>0</td>\n",
       "      <td>2018-05-15</td>\n",
       "      <td>2018</td>\n",
       "      <td>32</td>\n",
       "      <td>0</td>\n",
       "      <td>1</td>\n",
       "      <td>0</td>\n",
       "      <td>Alive</td>\n",
       "      <td>2</td>\n",
       "      <td>0</td>\n",
       "      <td>1.0</td>\n",
       "      <td>YoungAdult</td>\n",
       "    </tr>\n",
       "    <tr>\n",
       "      <th>1</th>\n",
       "      <td>Male</td>\n",
       "      <td>1</td>\n",
       "      <td>0</td>\n",
       "      <td>Ebonyi</td>\n",
       "      <td>Rural</td>\n",
       "      <td>1</td>\n",
       "      <td>0</td>\n",
       "      <td>2017-02-28</td>\n",
       "      <td>2017</td>\n",
       "      <td>32</td>\n",
       "      <td>0</td>\n",
       "      <td>1</td>\n",
       "      <td>4</td>\n",
       "      <td>Alive</td>\n",
       "      <td>0</td>\n",
       "      <td>1</td>\n",
       "      <td>0.0</td>\n",
       "      <td>YoungAdult</td>\n",
       "    </tr>\n",
       "    <tr>\n",
       "      <th>2</th>\n",
       "      <td>Female</td>\n",
       "      <td>0</td>\n",
       "      <td>1</td>\n",
       "      <td>Ogun</td>\n",
       "      <td>Urban</td>\n",
       "      <td>0</td>\n",
       "      <td>1</td>\n",
       "      <td>2012-03-02</td>\n",
       "      <td>2012</td>\n",
       "      <td>24</td>\n",
       "      <td>0</td>\n",
       "      <td>1</td>\n",
       "      <td>4</td>\n",
       "      <td>Dead</td>\n",
       "      <td>1</td>\n",
       "      <td>1</td>\n",
       "      <td>0.0</td>\n",
       "      <td>YoungAdult</td>\n",
       "    </tr>\n",
       "    <tr>\n",
       "      <th>3</th>\n",
       "      <td>Female</td>\n",
       "      <td>0</td>\n",
       "      <td>1</td>\n",
       "      <td>Ondo</td>\n",
       "      <td>Rural</td>\n",
       "      <td>1</td>\n",
       "      <td>0</td>\n",
       "      <td>2010-05-21</td>\n",
       "      <td>2010</td>\n",
       "      <td>63</td>\n",
       "      <td>0</td>\n",
       "      <td>1</td>\n",
       "      <td>5</td>\n",
       "      <td>Alive</td>\n",
       "      <td>1</td>\n",
       "      <td>1</td>\n",
       "      <td>0.0</td>\n",
       "      <td>Elder</td>\n",
       "    </tr>\n",
       "    <tr>\n",
       "      <th>4</th>\n",
       "      <td>Male</td>\n",
       "      <td>1</td>\n",
       "      <td>0</td>\n",
       "      <td>Oyo</td>\n",
       "      <td>Urban</td>\n",
       "      <td>0</td>\n",
       "      <td>1</td>\n",
       "      <td>2017-08-28</td>\n",
       "      <td>2017</td>\n",
       "      <td>9</td>\n",
       "      <td>1</td>\n",
       "      <td>0</td>\n",
       "      <td>7</td>\n",
       "      <td>Alive</td>\n",
       "      <td>0</td>\n",
       "      <td>1</td>\n",
       "      <td>0.0</td>\n",
       "      <td>Child</td>\n",
       "    </tr>\n",
       "  </tbody>\n",
       "</table>\n",
       "</div>"
      ],
      "text/plain": [
       "   gender  gender_male  gender_female   state settlement  rural_settlement  \\\n",
       "0  Female            0              1  Rivers      Rural                 1   \n",
       "1    Male            1              0  Ebonyi      Rural                 1   \n",
       "2  Female            0              1    Ogun      Urban                 0   \n",
       "3  Female            0              1    Ondo      Rural                 1   \n",
       "4    Male            1              0     Oyo      Urban                 0   \n",
       "\n",
       "   urban_settlement report_date  report_year  age  child_group  adult_group  \\\n",
       "0                 0  2018-05-15         2018   32            0            1   \n",
       "1                 0  2017-02-28         2017   32            0            1   \n",
       "2                 1  2012-03-02         2012   24            0            1   \n",
       "3                 0  2010-05-21         2010   63            0            1   \n",
       "4                 1  2017-08-28         2017    9            1            0   \n",
       "\n",
       "   disease health_status  report_outcome  unconfirmed  confirmed   Age_group  \n",
       "0        0         Alive               2            0        1.0  YoungAdult  \n",
       "1        4         Alive               0            1        0.0  YoungAdult  \n",
       "2        4          Dead               1            1        0.0  YoungAdult  \n",
       "3        5         Alive               1            1        0.0       Elder  \n",
       "4        7         Alive               0            1        0.0       Child  "
      ]
     },
     "execution_count": 64,
     "metadata": {},
     "output_type": "execute_result"
    }
   ],
   "source": [
    "#Adding new column to the dataset\n",
    "data['Age_group']= ['Baby'if i <5 else'Child'if i < 13 else \"Teenager\" if i < 20 else 'YoungAdult' if i< 35 else 'Adult' if i< 55 else 'Elder'for i in data.age]\n",
    "data.head()"
   ]
  },
  {
   "cell_type": "code",
   "execution_count": 65,
   "id": "07c2097d",
   "metadata": {},
   "outputs": [
    {
     "data": {
      "text/plain": [
       "confirmed    0\n",
       "dtype: int64"
      ]
     },
     "execution_count": 65,
     "metadata": {},
     "output_type": "execute_result"
    }
   ],
   "source": [
    "y.isnull().sum()\n"
   ]
  },
  {
   "cell_type": "markdown",
   "id": "7e63e3cb",
   "metadata": {},
   "source": [
    "### Using Logistic Regression Model"
   ]
  },
  {
   "cell_type": "code",
   "execution_count": 66,
   "id": "9bdf0b85",
   "metadata": {},
   "outputs": [],
   "source": [
    "#importing the model\n",
    "from sklearn.model_selection import train_test_split"
   ]
  },
  {
   "cell_type": "code",
   "execution_count": 67,
   "id": "685abd94",
   "metadata": {},
   "outputs": [
    {
     "data": {
      "text/plain": [
       "LogisticRegression()"
      ]
     },
     "execution_count": 67,
     "metadata": {},
     "output_type": "execute_result"
    }
   ],
   "source": [
    "##Calling the Object to build our model\n",
    "model = LogisticRegression()\n",
    "model"
   ]
  },
  {
   "cell_type": "code",
   "execution_count": 68,
   "id": "8c8a6cdb",
   "metadata": {},
   "outputs": [],
   "source": [
    "#Splitting our dataset into train and test\n",
    "x_train, x_test, y_train, y_test = train_test_split(x, y, test_size = 0.2, random_state = 52)\n"
   ]
  },
  {
   "cell_type": "code",
   "execution_count": 69,
   "id": "bbd43532",
   "metadata": {},
   "outputs": [
    {
     "data": {
      "text/plain": [
       "75045"
      ]
     },
     "execution_count": 69,
     "metadata": {},
     "output_type": "execute_result"
    }
   ],
   "source": [
    "len(x_train)"
   ]
  },
  {
   "cell_type": "code",
   "execution_count": 70,
   "id": "25094cb5",
   "metadata": {},
   "outputs": [
    {
     "data": {
      "text/plain": [
       "18762"
      ]
     },
     "execution_count": 70,
     "metadata": {},
     "output_type": "execute_result"
    }
   ],
   "source": [
    "len(x_test)"
   ]
  },
  {
   "cell_type": "code",
   "execution_count": 71,
   "id": "a8a2dd05",
   "metadata": {},
   "outputs": [],
   "source": [
    " #Fitting the dataset for training \n",
    "reg_log =model.fit(x_train, y_train)"
   ]
  },
  {
   "cell_type": "code",
   "execution_count": 72,
   "id": "ffd2bf41",
   "metadata": {},
   "outputs": [
    {
     "data": {
      "text/plain": [
       "0.7477880822939985"
      ]
     },
     "execution_count": 72,
     "metadata": {},
     "output_type": "execute_result"
    }
   ],
   "source": [
    "#Checking the performance of the model\n",
    "model.score(x_test,y_test)"
   ]
  },
  {
   "cell_type": "code",
   "execution_count": 73,
   "id": "f5cfcaeb",
   "metadata": {},
   "outputs": [
    {
     "data": {
      "text/plain": [
       "array([0., 0., 0., ..., 0., 0., 0.])"
      ]
     },
     "execution_count": 73,
     "metadata": {},
     "output_type": "execute_result"
    }
   ],
   "source": [
    "y_pred= reg_log.predict(x_test)\n",
    "y_pred"
   ]
  },
  {
   "cell_type": "code",
   "execution_count": 87,
   "id": "35373693",
   "metadata": {},
   "outputs": [
    {
     "data": {
      "text/plain": [
       "array([[0.68123562, 0.31876438],\n",
       "       [0.68123562, 0.31876438],\n",
       "       [0.68528782, 0.31471218],\n",
       "       ...,\n",
       "       [0.65584929, 0.34415071],\n",
       "       [0.79292689, 0.20707311],\n",
       "       [0.83804983, 0.16195017]])"
      ]
     },
     "execution_count": 87,
     "metadata": {},
     "output_type": "execute_result"
    }
   ],
   "source": [
    "d_pro =model.predict_proba(x_test)\n",
    "d_pro"
   ]
  },
  {
   "cell_type": "code",
   "execution_count": 88,
   "id": "faeccd51",
   "metadata": {},
   "outputs": [
    {
     "data": {
      "text/plain": [
       "array([0.])"
      ]
     },
     "execution_count": 88,
     "metadata": {},
     "output_type": "execute_result"
    }
   ],
   "source": [
    "y_pred = reg_log.predict([[1, 0, 1, 0, 2, 4]])\n",
    "y_pred"
   ]
  },
  {
   "cell_type": "code",
   "execution_count": 76,
   "id": "7d599843",
   "metadata": {},
   "outputs": [
    {
     "data": {
      "text/plain": [
       "array([[14030,     0],\n",
       "       [ 4732,     0]], dtype=int64)"
      ]
     },
     "execution_count": 76,
     "metadata": {},
     "output_type": "execute_result"
    }
   ],
   "source": [
    "Confusion_score = confusion_matrix(y_test, y_pred)\n",
    "Confusion_score"
   ]
  },
  {
   "cell_type": "code",
   "execution_count": 77,
   "id": "15c1cce6",
   "metadata": {},
   "outputs": [
    {
     "name": "stdout",
     "output_type": "stream",
     "text": [
      "              precision    recall  f1-score   support\n",
      "\n",
      "         0.0       0.75      1.00      0.86     14030\n",
      "         1.0       0.00      0.00      0.00      4732\n",
      "\n",
      "    accuracy                           0.75     18762\n",
      "   macro avg       0.37      0.50      0.43     18762\n",
      "weighted avg       0.56      0.75      0.64     18762\n",
      "\n"
     ]
    }
   ],
   "source": [
    "print (classification_report(y_test, y_pred))"
   ]
  },
  {
   "cell_type": "code",
   "execution_count": 78,
   "id": "7cbe2f92",
   "metadata": {},
   "outputs": [
    {
     "data": {
      "text/plain": [
       "<AxesSubplot:>"
      ]
     },
     "execution_count": 78,
     "metadata": {},
     "output_type": "execute_result"
    },
    {
     "data": {
      "image/png": "[encoded data removed]",
      "text/plain": [
       "<Figure size 432x288 with 2 Axes>"
      ]
     },
     "metadata": {
      "needs_background": "light"
     },
     "output_type": "display_data"
    }
   ],
   "source": [
    "sns.heatmap(Confusion_score, annot = True)"
   ]
  },
  {
   "cell_type": "markdown",
   "id": "951696be",
   "metadata": {},
   "source": [
    "### Using Decision Tree"
   ]
  },
  {
   "cell_type": "code",
   "execution_count": 1,
   "id": "3aa8586b",
   "metadata": {},
   "outputs": [],
   "source": [
    "# import the decisiontree classifier model\n",
    "from sklearn.tree import DecisionTreeClassifier"
   ]
  },
  {
   "cell_type": "code",
   "execution_count": 2,
   "id": "bb2a9988",
   "metadata": {},
   "outputs": [
    {
     "data": {
      "text/plain": [
       "DecisionTreeClassifier()"
      ]
     },
     "execution_count": 2,
     "metadata": {},
     "output_type": "execute_result"
    }
   ],
   "source": [
    "#the object for model\n",
    "model_dic = DecisionTreeClassifier()\n",
    "model_dic"
   ]
  },
  {
   "cell_type": "code",
   "execution_count": 81,
   "id": "299e3ef8",
   "metadata": {},
   "outputs": [],
   "source": [
    "#Splitting the dataset into train and test \n",
    "x_train, x_test, y_train, y_test = train_test_split(x, y, test_size = 0.3)"
   ]
  },
  {
   "cell_type": "code",
   "execution_count": 82,
   "id": "8882edbd",
   "metadata": {},
   "outputs": [
    {
     "data": {
      "text/plain": [
       "DecisionTreeClassifier()"
      ]
     },
     "execution_count": 82,
     "metadata": {},
     "output_type": "execute_result"
    }
   ],
   "source": [
    "#Fitting the dataset \n",
    "model_fit = model_dic.fit(x_train, y_train)\n",
    "model_fit"
   ]
  },
  {
   "cell_type": "code",
   "execution_count": 83,
   "id": "60e0e7a8",
   "metadata": {},
   "outputs": [
    {
     "data": {
      "text/plain": [
       "0.7496713214653733"
      ]
     },
     "execution_count": 83,
     "metadata": {},
     "output_type": "execute_result"
    }
   ],
   "source": [
    "#Checking the accuracy of our model\n",
    "model_dic.score(x_test, y_test)"
   ]
  },
  {
   "cell_type": "markdown",
   "id": "d9241406",
   "metadata": {},
   "source": [
    "### Using RandomForest Classifier"
   ]
  },
  {
   "cell_type": "code",
   "execution_count": 84,
   "id": "4ca9ea82",
   "metadata": {},
   "outputs": [
    {
     "data": {
      "text/plain": [
       "RandomForestClassifier(n_estimators=60, n_jobs=-1, oob_score=True,\n",
       "                       random_state=40)"
      ]
     },
     "execution_count": 84,
     "metadata": {},
     "output_type": "execute_result"
    }
   ],
   "source": [
    "from sklearn.ensemble import RandomForestClassifier\n",
    "#Call the object model\n",
    "model_r = RandomForestClassifier(n_estimators = 60, random_state = 40, n_jobs = - 1, oob_score = True)\n",
    "model_r"
   ]
  },
  {
   "cell_type": "code",
   "execution_count": 85,
   "id": "69fbfcc9",
   "metadata": {},
   "outputs": [
    {
     "data": {
      "text/plain": [
       "RandomForestClassifier(n_estimators=60, n_jobs=-1, oob_score=True,\n",
       "                       random_state=40)"
      ]
     },
     "execution_count": 85,
     "metadata": {},
     "output_type": "execute_result"
    }
   ],
   "source": [
    "#Fitting the data \n",
    "model_fit = model_r.fit(x_train, y_train)\n",
    "model_fit"
   ]
  },
  {
   "cell_type": "code",
   "execution_count": 86,
   "id": "6a1ce211",
   "metadata": {},
   "outputs": [
    {
     "data": {
      "text/plain": [
       "0.7476459510357816"
      ]
     },
     "execution_count": 86,
     "metadata": {},
     "output_type": "execute_result"
    }
   ],
   "source": [
    "#Checking the accuracy of the model\n",
    "model_r.score(x_test, y_test)"
   ]
  },
  {
   "cell_type": "markdown",
   "id": "7c8a70c6",
   "metadata": {},
   "source": [
    "### Conclusion: This dataset has limitations. For instance,  there's no available symptoms to do a prediction to know if a patient has a particlar disease or not else it would have enhance the performance of our model."
   ]
  },
  {
   "cell_type": "code",
   "execution_count": null,
   "id": "aeafbc03",
   "metadata": {},
   "outputs": [],
   "source": []
  },
  {
   "cell_type": "code",
   "execution_count": null,
   "id": "822cabf9",
   "metadata": {},
   "outputs": [],
   "source": []
  },
  {
   "cell_type": "code",
   "execution_count": null,
   "id": "05dc1cc7",
   "metadata": {},
   "outputs": [],
   "source": []
  }
 ],
 "metadata": {
  "kernelspec": {
   "display_name": "Python 3 (ipykernel)",
   "language": "python",
   "name": "python3"
  },
  "language_info": {
   "codemirror_mode": {
    "name": "ipython",
    "version": 3
   },
   "file_extension": ".py",
   "mimetype": "text/x-python",
   "name": "python",
   "nbconvert_exporter": "python",
   "pygments_lexer": "ipython3",
   "version": "3.9.12"
  }
 },
 "nbformat": 4,
 "nbformat_minor": 5
}
